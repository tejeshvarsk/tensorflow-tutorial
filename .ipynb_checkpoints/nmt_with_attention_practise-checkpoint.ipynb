{
 "cells": [
  {
   "cell_type": "code",
   "execution_count": null,
   "id": "afda0806-e858-4d2e-8593-fe7ea89caa47",
   "metadata": {},
   "outputs": [
    {
     "name": "stderr",
     "output_type": "stream",
     "text": [
      "2024-03-11 15:41:41.329903: I external/local_tsl/tsl/cuda/cudart_stub.cc:31] Could not find cuda drivers on your machine, GPU will not be used.\n",
      "2024-03-11 15:41:41.465738: E external/local_xla/xla/stream_executor/cuda/cuda_dnn.cc:9261] Unable to register cuDNN factory: Attempting to register factory for plugin cuDNN when one has already been registered\n",
      "2024-03-11 15:41:41.465778: E external/local_xla/xla/stream_executor/cuda/cuda_fft.cc:607] Unable to register cuFFT factory: Attempting to register factory for plugin cuFFT when one has already been registered\n",
      "2024-03-11 15:41:41.471917: E external/local_xla/xla/stream_executor/cuda/cuda_blas.cc:1515] Unable to register cuBLAS factory: Attempting to register factory for plugin cuBLAS when one has already been registered\n",
      "2024-03-11 15:41:41.485468: I external/local_tsl/tsl/cuda/cudart_stub.cc:31] Could not find cuda drivers on your machine, GPU will not be used.\n",
      "2024-03-11 15:41:41.486267: I tensorflow/core/platform/cpu_feature_guard.cc:182] This TensorFlow binary is optimized to use available CPU instructions in performance-critical operations.\n",
      "To enable the following instructions: AVX2 FMA, in other operations, rebuild TensorFlow with the appropriate compiler flags.\n"
     ]
    }
   ],
   "source": [
    "import tensorflow as tf\n",
    "import numpy as np\n",
    "import pathlib\n",
    "import warnings\n",
    "import tensorflow_text as tf_text\n",
    "warnings.filterwarnings('ignore')"
   ]
  },
  {
   "cell_type": "code",
   "execution_count": null,
   "id": "8f8dc349-2017-4c2f-b221-1665cde4931d",
   "metadata": {},
   "outputs": [],
   "source": [
    "path_to_file = tf.keras.utils.get_file(\"spa-eng.zip\", origin='http://storage.googleapis.com/download.tensorflow.org/data/spa-eng.zip', extract=True)\n",
    "path_to_file = pathlib.Path(path_to_file).parent/'spa-eng/spa.txt'\n",
    "path_to_file"
   ]
  },
  {
   "cell_type": "code",
   "execution_count": null,
   "id": "887a1fa6-4859-46e4-a91f-bbcf11f047b2",
   "metadata": {},
   "outputs": [],
   "source": [
    "def load_data(path):\n",
    "    text = path.read_text(encoding=\"utf-8\")\n",
    "    lines = text.splitlines()\n",
    "    pairs = [line.split(\"\\t\") for line in lines]\n",
    "    context = np.array([context for target,context in pairs])\n",
    "    target = np.array([target for target,context in pairs])\n",
    "    return context, target"
   ]
  },
  {
   "cell_type": "code",
   "execution_count": null,
   "id": "ebfece0d-4903-435b-927b-74ea051abea2",
   "metadata": {},
   "outputs": [],
   "source": [
    "context_raw, target_raw = load_data(path_to_file)"
   ]
  },
  {
   "cell_type": "code",
   "execution_count": null,
   "id": "0012ce04-2d7d-42b7-93a5-391a7b908dec",
   "metadata": {},
   "outputs": [],
   "source": [
    "context_raw.shape"
   ]
  },
  {
   "cell_type": "code",
   "execution_count": null,
   "id": "9c4574ba-2afa-40e6-8660-4124eb9870fa",
   "metadata": {},
   "outputs": [],
   "source": [
    "context_raw[-1]"
   ]
  },
  {
   "cell_type": "code",
   "execution_count": null,
   "id": "7f01ceef-98ef-4d21-ab56-c548eaa18cd3",
   "metadata": {},
   "outputs": [],
   "source": [
    "target_raw[-1]"
   ]
  },
  {
   "cell_type": "code",
   "execution_count": null,
   "id": "bb5ab1f3-d5b0-4f4b-80d3-5be2bd781533",
   "metadata": {},
   "outputs": [],
   "source": [
    "BUFFER_SIZE=len(target_raw)\n",
    "BATCH_SIZE=64\n",
    "is_train = np.random.uniform(size=(len(target_raw,))) < 0.8\n",
    "train_raw = tf.data.Dataset.from_tensor_slices( (context_raw[is_train], target_raw[is_train]) ).shuffle(BUFFER_SIZE).batch(BATCH_SIZE)\n",
    "val_raw = tf.data.Dataset.from_tensor_slices( (context_raw[~is_train], target_raw[~is_train]) ).shuffle(BUFFER_SIZE).batch(BATCH_SIZE)"
   ]
  },
  {
   "cell_type": "code",
   "execution_count": null,
   "id": "ff8c6de6-9395-44ba-865d-a5a08d6ec5ba",
   "metadata": {},
   "outputs": [],
   "source": [
    "for (example_context_strings, example_target_strings) in train_raw.take(1):\n",
    "    print(example_context_strings[:5])\n",
    "    print(example_target_strings[:5])"
   ]
  },
  {
   "cell_type": "code",
   "execution_count": null,
   "id": "efd9c3cb-561e-4b51-bb04-7f8667fd36b0",
   "metadata": {},
   "outputs": [],
   "source": [
    "def tf_lower_and_split_punct(text):\n",
    "    text = tf_text.normalize_utf8(text, \"NFKD\")\n",
    "    text = tf.strings.lower(text)\n",
    "    text = tf.strings.regex_replace(text, '[^ a-z.?!,¿]', '')\n",
    "    text = tf.strings.regex_replace(text, '[.?!,¿]', r' \\0 ')\n",
    "    text = tf.strings.strip(text)\n",
    "    text = tf.strings.join( [ '[START]', text, '[END]' ], separator=' ')\n",
    "    return text"
   ]
  },
  {
   "cell_type": "code",
   "execution_count": null,
   "id": "d7e31dd1-0ce9-4845-9bad-621aeea4d761",
   "metadata": {},
   "outputs": [],
   "source": [
    "example_text = tf.constant('¿Todavía está en casa?')\n",
    "print(tf_lower_and_split_punct(example_text).numpy().decode('UTF-8'))"
   ]
  },
  {
   "cell_type": "code",
   "execution_count": null,
   "id": "d5a006d1-c187-4a9c-bea3-1b13351c9f64",
   "metadata": {},
   "outputs": [],
   "source": [
    "max_vocab_size=5000\n",
    "context_text_processor = tf.keras.layers.TextVectorization(max_tokens=max_vocab_size, standardize=tf_lower_and_split_punct, ragged=True)\n",
    "context_text_processor.adapt(train_raw.map(lambda context, target : context))"
   ]
  },
  {
   "cell_type": "code",
   "execution_count": null,
   "id": "561836db-d1e1-4d0d-b1da-7e5f9890a4bd",
   "metadata": {},
   "outputs": [],
   "source": [
    "target_text_processor = tf.keras.layers.TextVectorization(max_tokens=max_vocab_size, standardize=tf_lower_and_split_punct, ragged=True)\n",
    "target_text_processor.adapt(train_raw.map(lambda context, target : target))"
   ]
  },
  {
   "cell_type": "code",
   "execution_count": null,
   "id": "d3e0c076-7957-4a63-9fe8-94cca1f20d6a",
   "metadata": {},
   "outputs": [],
   "source": [
    "context_text_processor(example_context_strings[:5])"
   ]
  },
  {
   "cell_type": "code",
   "execution_count": null,
   "id": "a0678f2e-0434-429f-8710-c3c1ad8bb9a7",
   "metadata": {},
   "outputs": [],
   "source": [
    "target_text_processor(example_target_strings[:5])"
   ]
  },
  {
   "cell_type": "code",
   "execution_count": null,
   "id": "d653fc5b-a3e3-4f68-8335-2830b87d2e70",
   "metadata": {},
   "outputs": [],
   "source": [
    "context_text_processor.get_vocabulary()[:10]"
   ]
  },
  {
   "cell_type": "code",
   "execution_count": null,
   "id": "59c0e298-3dfe-4592-8b07-e0c64a79d53b",
   "metadata": {},
   "outputs": [],
   "source": [
    "target_text_processor.get_vocabulary()[:10]"
   ]
  },
  {
   "cell_type": "code",
   "execution_count": null,
   "id": "39b2098c-52a6-4748-997b-5ba7b27aa0ac",
   "metadata": {},
   "outputs": [],
   "source": [
    "def process_text(context, target):\n",
    "    context = context_text_processor(context).to_tensor()\n",
    "    target = target_text_processor(target)\n",
    "    targ_in = target[:,:-1].to_tensor()\n",
    "    targ_out = target[:,1:].to_tensor()\n",
    "    return (context, targ_in), targ_out"
   ]
  },
  {
   "cell_type": "code",
   "execution_count": null,
   "id": "cf33d716-74d5-4bb2-a77b-f3a6520c0c06",
   "metadata": {},
   "outputs": [],
   "source": [
    "train_ds = train_raw.map(process_text, tf.data.AUTOTUNE)\n",
    "val_ds = val_raw.map(process_text, tf.data.AUTOTUNE)"
   ]
  },
  {
   "cell_type": "code",
   "execution_count": null,
   "id": "9d78faed-8259-40ad-8bfd-bcbcce843099",
   "metadata": {},
   "outputs": [],
   "source": [
    "for (ex_context_tok, ex_tar_in), ex_tar_out in train_ds.take(1):\n",
    "    print(ex_context_tok[0])\n",
    "    print(ex_tar_in[0])\n",
    "    print(ex_tar_out[0])"
   ]
  },
  {
   "cell_type": "code",
   "execution_count": null,
   "id": "94fea5b9-465e-4be1-8c25-6042952fc4c6",
   "metadata": {},
   "outputs": [],
   "source": [
    "ex_context_tok.shape"
   ]
  },
  {
   "cell_type": "code",
   "execution_count": null,
   "id": "aa9c3ec8-9064-40d8-87be-6eeb89d6ebd4",
   "metadata": {},
   "outputs": [],
   "source": [
    "ex_tar_in.shape"
   ]
  },
  {
   "cell_type": "code",
   "execution_count": null,
   "id": "d48410a2-89a4-41f1-87a7-b5cff277f4a3",
   "metadata": {},
   "outputs": [],
   "source": [
    "ex_tar_out.shape"
   ]
  },
  {
   "cell_type": "code",
   "execution_count": null,
   "id": "e2c6e21c-5feb-4c6b-9a3a-b2bdaceaca52",
   "metadata": {},
   "outputs": [],
   "source": [
    "UNITS=256"
   ]
  },
  {
   "cell_type": "code",
   "execution_count": null,
   "id": "e2334b12-a2d6-4897-9c1f-3c7a5c2cf1c9",
   "metadata": {},
   "outputs": [],
   "source": [
    "class Encoder(tf.keras.layers.Layer):\n",
    "    def __init__(self, text_processor, units):\n",
    "        super().__init__()\n",
    "        self.text_processor = text_processor\n",
    "        self.vocab_size = text_processor.vocabulary_size()\n",
    "        self.units = units\n",
    "        self.embedding = tf.keras.layers.Embedding(input_dim=self.vocab_size, output_dim=self.units, mask_zero=True)\n",
    "        self.rnn = tf.keras.layers.Bidirectional(merge_mode='sum', \n",
    "                                                 layer=tf.keras.layers.GRU(self.units, \n",
    "                                                                           return_sequences=True, \n",
    "                                                                           recurrent_initializer='glorot_uniform')\n",
    "                                                )\n",
    "    def call(self, context):\n",
    "        x= context\n",
    "        x = self.embedding(x)\n",
    "        x = self.rnn(x)\n",
    "        return x"
   ]
  },
  {
   "cell_type": "code",
   "execution_count": null,
   "id": "d84f5e96-c5cd-488c-a216-a296a8cf2617",
   "metadata": {},
   "outputs": [],
   "source": [
    "encoder = Encoder(context_text_processor, UNITS)"
   ]
  },
  {
   "cell_type": "code",
   "execution_count": null,
   "id": "d64e629a-f536-4c14-8a3d-997a28bfe726",
   "metadata": {},
   "outputs": [],
   "source": [
    "ex_context=encoder(ex_context_tok)"
   ]
  },
  {
   "cell_type": "code",
   "execution_count": null,
   "id": "501c3e3d-42eb-4389-abee-81b23e22623f",
   "metadata": {},
   "outputs": [],
   "source": [
    "ex_context.shape"
   ]
  },
  {
   "cell_type": "code",
   "execution_count": null,
   "id": "80faca16-f9b2-4d11-8748-a68e9f848c6f",
   "metadata": {},
   "outputs": [],
   "source": [
    "class CrossAttention(tf.keras.layers.Layer):\n",
    "    def __init__(self, units):\n",
    "        super().__init__()\n",
    "        self.mha = tf.keras.layers.MultiHeadAttention(key_dim=units, num_heads=1)\n",
    "        self.layernorm = tf.keras.layers.LayerNormalization()\n",
    "        self.add = tf.keras.layers.Add()\n",
    "    def call(self, x, context):\n",
    "        attn_output, attn_scores = self.mha(query=x, value=context, return_attention_scores=True)\n",
    "        attn_scores = tf.reduce_mean(attn_scores, axis=1)\n",
    "        self.last_attention_weights=attn_scores\n",
    "        x = self.add([x, attn_output])\n",
    "        return self.layernorm(x)"
   ]
  },
  {
   "cell_type": "code",
   "execution_count": null,
   "id": "8f82d437-f5ea-497a-a314-a49c98ae913f",
   "metadata": {},
   "outputs": [],
   "source": [
    "attention_layer = CrossAttention(UNITS)\n"
   ]
  },
  {
   "cell_type": "code",
   "execution_count": null,
   "id": "b68b17ed-de46-4e4e-a2d5-45aaa57c62ee",
   "metadata": {},
   "outputs": [],
   "source": [
    "embed = tf.keras.layers.Embedding(input_dim=target_text_processor.vocabulary_size(), output_dim=UNITS)\n",
    "ex_embed = embed(ex_tar_in)\n",
    "ex_embed.shape"
   ]
  },
  {
   "cell_type": "code",
   "execution_count": null,
   "id": "824f5b7a-c4e2-463d-b80d-ed54e403e98b",
   "metadata": {},
   "outputs": [],
   "source": [
    "result=attention_layer(ex_embed, ex_context)\n",
    "result.shape"
   ]
  },
  {
   "cell_type": "code",
   "execution_count": null,
   "id": "d4380c9b-d52b-4885-8bbb-0003d6fe6dcb",
   "metadata": {},
   "outputs": [],
   "source": [
    "attention_layer.last_attention_weights[0].numpy().sum(axis=-1)"
   ]
  },
  {
   "cell_type": "code",
   "execution_count": null,
   "id": "7acdd272-32cc-49b1-ac3d-2d4144540389",
   "metadata": {},
   "outputs": [],
   "source": [
    "class Decoder(tf.keras.layers.Layer):\n",
    "    @classmethod\n",
    "    def add_method(cls, fun):\n",
    "        setattr(cls,fun.__name__,fun)\n",
    "        return fun"
   ]
  },
  {
   "cell_type": "code",
   "execution_count": null,
   "id": "14381d3f-d2fd-47b9-8721-4bdd957893ff",
   "metadata": {},
   "outputs": [],
   "source": [
    "@Decoder.add_method\n",
    "def __init__(self, text_processor, units):\n",
    "    super(Decoder, self).__init__()\n",
    "    self.text_processor = text_processor\n",
    "    self.units = units\n",
    "    self.vocab_size = text_processor.vocabulary_size()\n",
    "    self.word_to_id = tf.keras.layers.StringLookup(vocabulary=text_processor.get_vocabulary(), mask_token='',oov_token='[UNK]')\n",
    "    self.id_to_word = tf.keras.layers.StringLookup(vocabulary=text_processor.get_vocabulary(), mask_token='',oov_token='[UNK]', invert=True)\n",
    "    self.start_token=self.word_to_id('[START]')\n",
    "    self.end_token=self.word_to_id('[END]')\n",
    "    self.embedding = tf.keras.layers.Embedding(input_dim=self.vocab_size, output_dim=self.units, mask_zero=True)\n",
    "    self.rnn = tf.keras.layers.GRU(units, return_sequences=True, return_state=True, recurrent_initializer='glorot_uniform')\n",
    "    self.attention = CrossAttention(self.units)\n",
    "    self.output_layer = tf.keras.layers.Dense(self.vocab_size)"
   ]
  },
  {
   "cell_type": "code",
   "execution_count": null,
   "id": "3ecd1c8b-b5d7-4724-93cb-ec61f110c30f",
   "metadata": {},
   "outputs": [],
   "source": [
    "@Decoder.add_method\n",
    "def call(self, context, x, state=None, return_state=False):\n",
    "    x = self.embedding(x)\n",
    "    x,state = self.rnn(x, initial_state=state)\n",
    "    x = self.attention(x, context)\n",
    "    logits = self.output_layer(x)\n",
    "    if return_state:\n",
    "        return logits, state\n",
    "    else:\n",
    "        return logits"
   ]
  },
  {
   "cell_type": "code",
   "execution_count": null,
   "id": "45ac112b-cd13-4aa1-b5a4-611caeba6548",
   "metadata": {},
   "outputs": [],
   "source": [
    "decoder = Decoder(target_text_processor, UNITS)"
   ]
  },
  {
   "cell_type": "code",
   "execution_count": null,
   "id": "3716e1dc-d443-4e11-8470-06d136892943",
   "metadata": {},
   "outputs": [],
   "source": [
    "decoder(ex_context,ex_tar_in).shape"
   ]
  },
  {
   "cell_type": "code",
   "execution_count": null,
   "id": "149d4b52-5f7e-47f8-aa59-c8e2a7873b79",
   "metadata": {},
   "outputs": [],
   "source": [
    "@Decoder.add_method\n",
    "def get_initial_state(self, context):\n",
    "    batch_size = tf.shape(context)[0]\n",
    "    start_tokens = tf.fill([batch_size,1], self.start_token)\n",
    "    done = tf.zeros([batch_size,1], dtype=tf.bool)\n",
    "    embedded = self.embedding(start_tokens)\n",
    "    return start_tokens, done, self.rnn.get_initial_state(embedded)[0]"
   ]
  },
  {
   "cell_type": "code",
   "execution_count": null,
   "id": "8f11d463-4e25-4ea5-b0a1-e9037d293713",
   "metadata": {},
   "outputs": [],
   "source": [
    "@Decoder.add_method\n",
    "def tokens_to_text(self, tokens):\n",
    "    words = self.id_to_word(tokens)\n",
    "    result = tf.strings.reduce_join(words, axis=-1, separator=' ')\n",
    "    result = tf.strings.regex_replace(result, '^ *\\[START\\] *', '')\n",
    "    result = tf.strings.regex_replace(result, ' *\\[END\\] *$', '')\n",
    "    return result"
   ]
  },
  {
   "cell_type": "code",
   "execution_count": null,
   "id": "126f1f5f-097a-4621-852b-5f682d554415",
   "metadata": {},
   "outputs": [],
   "source": [
    "@Decoder.add_method\n",
    "def get_next_token(self, context, next_token, done, state, temperature=0.0):\n",
    "    logits, state = self(context, next_token, state, return_state=True)\n",
    "    if temperature == 0.0:\n",
    "        next_token = tf.argmax(logits, axis=-1)\n",
    "    else:\n",
    "        logits = logits[:,-1,:]/temperature\n",
    "        next_token = tf.random.categorical(logits, num_samples=1)\n",
    "    done = done | (next_token==self.end_token)\n",
    "    next_token = tf.where(done, tf.constant(0, dtype=tf.int64), next_token)\n",
    "    return next_token, done, state\n",
    "        "
   ]
  },
  {
   "cell_type": "code",
   "execution_count": null,
   "id": "fcc726fd-c6c2-4355-8361-7f60690231a8",
   "metadata": {},
   "outputs": [],
   "source": [
    "next_token, done, state = decoder.get_initial_state(ex_context)\n",
    "tokens=[]\n",
    "\n",
    "for n in range(10):\n",
    "    next_token, done, state = decoder.get_next_token(ex_context, next_token, done, state)\n",
    "    tokens.append(next_token)\n",
    "\n",
    "tokens = tf.concat(tokens, axis=-1)\n",
    "result=decoder.tokens_to_text(tokens)\n",
    "result[:3]"
   ]
  },
  {
   "cell_type": "code",
   "execution_count": null,
   "id": "ebb6bbbe-e5e6-4593-a8e8-050eb78a0be1",
   "metadata": {},
   "outputs": [],
   "source": []
  }
 ],
 "metadata": {
  "kernelspec": {
   "display_name": "Python 3 (ipykernel)",
   "language": "python",
   "name": "python3"
  },
  "language_info": {
   "codemirror_mode": {
    "name": "ipython",
    "version": 3
   },
   "file_extension": ".py",
   "mimetype": "text/x-python",
   "name": "python",
   "nbconvert_exporter": "python",
   "pygments_lexer": "ipython3",
   "version": "3.11.8"
  }
 },
 "nbformat": 4,
 "nbformat_minor": 5
}
