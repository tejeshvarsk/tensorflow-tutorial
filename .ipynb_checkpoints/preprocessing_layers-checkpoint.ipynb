{
 "cells": [
  {
   "cell_type": "code",
   "execution_count": 1,
   "id": "94d84037-2ec5-4fd7-aed4-1616ab1768ca",
   "metadata": {},
   "outputs": [],
   "source": [
    "import numpy as np\n",
    "import tensorflow as tf\n",
    "import keras\n",
    "from keras import layers"
   ]
  },
  {
   "cell_type": "code",
   "execution_count": 2,
   "id": "a3555057-2aa0-42cc-a521-533c19a09e0a",
   "metadata": {},
   "outputs": [],
   "source": [
    "data = np.array(\n",
    "    [\n",
    "        [0.1, 0.2, 0.3],\n",
    "        [0.8, 0.9, 1.0],\n",
    "        [1.5, 1.6, 1.7],\n",
    "    ]\n",
    ")"
   ]
  },
  {
   "cell_type": "code",
   "execution_count": null,
   "id": "b765d644-4779-480c-8b00-d44524a4178d",
   "metadata": {},
   "outputs": [],
   "source": [
    "layer = layers.Normalization()\n",
    "layer.adapt(data)"
   ]
  }
 ],
 "metadata": {
  "kernelspec": {
   "display_name": "tf_env",
   "language": "python",
   "name": "tf_env"
  },
  "language_info": {
   "codemirror_mode": {
    "name": "ipython",
    "version": 3
   },
   "file_extension": ".py",
   "mimetype": "text/x-python",
   "name": "python",
   "nbconvert_exporter": "python",
   "pygments_lexer": "ipython3",
   "version": "3.10.13"
  }
 },
 "nbformat": 4,
 "nbformat_minor": 5
}
