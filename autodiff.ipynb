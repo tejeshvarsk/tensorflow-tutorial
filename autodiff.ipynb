{
 "cells": [
  {
   "cell_type": "markdown",
   "id": "41f966ca-9275-4218-9372-a563e674eaea",
   "metadata": {},
   "source": [
    "# 4. Automatic differentiation"
   ]
  },
  {
   "cell_type": "code",
   "execution_count": 1,
   "id": "206e52f1-7d90-452c-8c93-068ef4f97527",
   "metadata": {},
   "outputs": [
    {
     "name": "stderr",
     "output_type": "stream",
     "text": [
      "2024-03-11 10:26:46.463612: I external/local_tsl/tsl/cuda/cudart_stub.cc:31] Could not find cuda drivers on your machine, GPU will not be used.\n",
      "2024-03-11 10:26:46.542356: E external/local_xla/xla/stream_executor/cuda/cuda_dnn.cc:9261] Unable to register cuDNN factory: Attempting to register factory for plugin cuDNN when one has already been registered\n",
      "2024-03-11 10:26:46.542392: E external/local_xla/xla/stream_executor/cuda/cuda_fft.cc:607] Unable to register cuFFT factory: Attempting to register factory for plugin cuFFT when one has already been registered\n",
      "2024-03-11 10:26:46.544552: E external/local_xla/xla/stream_executor/cuda/cuda_blas.cc:1515] Unable to register cuBLAS factory: Attempting to register factory for plugin cuBLAS when one has already been registered\n",
      "2024-03-11 10:26:46.558909: I external/local_tsl/tsl/cuda/cudart_stub.cc:31] Could not find cuda drivers on your machine, GPU will not be used.\n",
      "2024-03-11 10:26:46.559857: I tensorflow/core/platform/cpu_feature_guard.cc:182] This TensorFlow binary is optimized to use available CPU instructions in performance-critical operations.\n",
      "To enable the following instructions: AVX2 FMA, in other operations, rebuild TensorFlow with the appropriate compiler flags.\n",
      "2024-03-11 10:26:47.912453: W tensorflow/compiler/tf2tensorrt/utils/py_utils.cc:38] TF-TRT Warning: Could not find TensorRT\n"
     ]
    }
   ],
   "source": [
    "import tensorflow as tf\n",
    "import numpy as np"
   ]
  },
  {
   "cell_type": "code",
   "execution_count": 2,
   "id": "c810f124-60df-4175-b33d-1226a5ceeb3b",
   "metadata": {},
   "outputs": [
    {
     "name": "stdout",
     "output_type": "stream",
     "text": [
      "None\n"
     ]
    }
   ],
   "source": [
    "x=tf.constant([1,2], dtype=tf.int32)\n",
    "with tf.GradientTape() as tape:\n",
    "    y = x**2\n",
    "print(tape.gradient(y,x))"
   ]
  },
  {
   "cell_type": "code",
   "execution_count": 11,
   "id": "93fa6897-243c-4c2f-b686-0341d7f82e6c",
   "metadata": {},
   "outputs": [
    {
     "name": "stdout",
     "output_type": "stream",
     "text": [
      "WARNING:tensorflow:The dtype of the watched tensor must be floating (e.g. tf.float32), got tf.int32\n",
      "None\n"
     ]
    }
   ],
   "source": [
    "x=tf.constant([1,2])\n",
    "with tf.GradientTape() as tape:\n",
    "    tape.watch(x)\n",
    "    y = x**2\n",
    "print(tape.gradient(y,x))"
   ]
  },
  {
   "cell_type": "code",
   "execution_count": 12,
   "id": "ac001002-f008-43b0-a5d1-4b56b770a849",
   "metadata": {},
   "outputs": [
    {
     "name": "stdout",
     "output_type": "stream",
     "text": [
      "tf.Tensor([2. 4.], shape=(2,), dtype=float16)\n"
     ]
    }
   ],
   "source": [
    "x=tf.constant([1,2], dtype=tf.float16)\n",
    "with tf.GradientTape() as tape:\n",
    "    tape.watch(x)\n",
    "    y = x**2\n",
    "print(tape.gradient(y,x))"
   ]
  },
  {
   "cell_type": "code",
   "execution_count": 13,
   "id": "dac7c983-7149-4e39-a53d-860878c0207d",
   "metadata": {},
   "outputs": [
    {
     "name": "stdout",
     "output_type": "stream",
     "text": [
      "tf.Tensor([2. 4.], shape=(2,), dtype=float16)\n"
     ]
    }
   ],
   "source": [
    "x=tf.Variable([1,2], dtype=tf.float16)\n",
    "with tf.GradientTape() as tape:\n",
    "    # tape.watch(x)\n",
    "    y = x**2\n",
    "print(tape.gradient(y,x))"
   ]
  },
  {
   "cell_type": "code",
   "execution_count": 20,
   "id": "e8e0d1a3-137e-43d5-8d59-1ea7facc8e17",
   "metadata": {},
   "outputs": [
    {
     "name": "stdout",
     "output_type": "stream",
     "text": [
      "loss :  tf.Tensor(13.7238655, shape=(), dtype=float32)\n"
     ]
    },
    {
     "data": {
      "text/plain": [
       "(<tf.Tensor: shape=(3, 2), dtype=float32, numpy=\n",
       " array([[ 5.218515  ,  0.46350056],\n",
       "        [10.43703   ,  0.9270011 ],\n",
       "        [15.655544  ,  1.3905017 ]], dtype=float32)>,\n",
       " <tf.Tensor: shape=(1, 2), dtype=float32, numpy=array([[5.218515  , 0.46350056]], dtype=float32)>)"
      ]
     },
     "execution_count": 20,
     "metadata": {},
     "output_type": "execute_result"
    }
   ],
   "source": [
    "w=tf.Variable(tf.random.normal(shape=(3,2)),name=\"w\")\n",
    "b=tf.Variable(tf.random.normal(shape=(1,2)),name=\"b\")\n",
    "x=[[1.,2.,3.]]\n",
    "\n",
    "with tf.GradientTape() as tape:\n",
    "    y = x@w+b\n",
    "    loss=tf.reduce_mean(y**2)\n",
    "    print(\"loss : \", loss)\n",
    "tape.gradient(loss, (w,b))"
   ]
  },
  {
   "cell_type": "code",
   "execution_count": 26,
   "id": "1453e008-e48c-403d-85d2-9727931b2c10",
   "metadata": {},
   "outputs": [
    {
     "data": {
      "text/plain": [
       "[<tf.Tensor: shape=(3, 2), dtype=float32, numpy=\n",
       " array([[2.3630042, 0.       ],\n",
       "        [4.7260084, 0.       ],\n",
       "        [7.0890126, 0.       ]], dtype=float32)>,\n",
       " <tf.Tensor: shape=(2,), dtype=float32, numpy=array([2.3630042, 0.       ], dtype=float32)>]"
      ]
     },
     "execution_count": 26,
     "metadata": {},
     "output_type": "execute_result"
    }
   ],
   "source": [
    "layer = tf.keras.layers.Dense(units=2, activation='relu')\n",
    "\n",
    "x = tf.constant([[1., 2., 3.]])\n",
    "\n",
    "with tf.GradientTape() as tape:\n",
    "    y = layer(x)\n",
    "    loss = tf.reduce_mean(y**2)\n",
    "\n",
    "tape.gradient(loss, layer.trainable_weights)"
   ]
  },
  {
   "cell_type": "code",
   "execution_count": 27,
   "id": "111c464d-e0a0-4490-8048-9845eb2bbc18",
   "metadata": {},
   "outputs": [
    {
     "name": "stdout",
     "output_type": "stream",
     "text": [
      "tf.Tensor(6.0, shape=(), dtype=float32)\n",
      "None\n",
      "None\n",
      "None\n"
     ]
    }
   ],
   "source": [
    "# A trainable variable\n",
    "x0 = tf.Variable(3.0, name='x0')\n",
    "# Not trainable\n",
    "x1 = tf.Variable(3.0, name='x1', trainable=False)\n",
    "# Not a Variable: A variable + tensor returns a tensor.\n",
    "x2 = tf.Variable(2.0, name='x2') + 1.0\n",
    "# Not a variable\n",
    "x3 = tf.constant(3.0, name='x3')\n",
    "\n",
    "with tf.GradientTape() as tape:\n",
    "  y = (x0**2) + (x1**2) + (x2**2)\n",
    "\n",
    "grad = tape.gradient(y, [x0, x1, x2, x3])\n",
    "\n",
    "for g in grad:\n",
    "  print(g)"
   ]
  },
  {
   "cell_type": "code",
   "execution_count": 39,
   "id": "54fa32f9-393e-4f01-bb72-ce6fd4423538",
   "metadata": {},
   "outputs": [
    {
     "data": {
      "text/plain": [
       "{'x0': <tf.Tensor: shape=(), dtype=float32, numpy=0.54030234>,\n",
       " 'x1': <tf.Tensor: shape=(), dtype=float32, numpy=0.9999546>}"
      ]
     },
     "execution_count": 39,
     "metadata": {},
     "output_type": "execute_result"
    }
   ],
   "source": [
    "x0 = tf.Variable(1.0)\n",
    "x1 = tf.Variable(10.0)\n",
    "\n",
    "with tf.GradientTape(watch_accessed_variables=False) as tape:\n",
    "  tape.watch(x1)\n",
    "  tape.watch(x0)\n",
    "  y0 = tf.math.sin(x0)\n",
    "  y1 = tf.nn.softplus(x1)\n",
    "  y = y0 + y1\n",
    "  ys = tf.reduce_sum(y)\n",
    "\n",
    "grad = tape.gradient(ys, {'x0': x0, 'x1': x1})\n",
    "grad"
   ]
  },
  {
   "cell_type": "code",
   "execution_count": null,
   "id": "bf64bd2b-90d3-4be4-bd85-7ace722aa168",
   "metadata": {},
   "outputs": [],
   "source": [
    "x = tf.constant([1, 3.0])\n",
    "with tf.GradientTape(persistent=True) as tape:\n",
    "  tape.watch(x)\n",
    "  y = x * x\n",
    "  z = y * y\n",
    "\n",
    "print(tape.gradient(z, x).numpy())  # [4.0, 108.0] (4 * x**3 at x = [1.0, 3.0])\n",
    "print(tape.gradient(y, x).numpy())  # [2.0, 6.0] (2 * x at x = [1.0, 3.0])"
   ]
  }
 ],
 "metadata": {
  "kernelspec": {
   "display_name": "tf_env",
   "language": "python",
   "name": "tf_env"
  },
  "language_info": {
   "codemirror_mode": {
    "name": "ipython",
    "version": 3
   },
   "file_extension": ".py",
   "mimetype": "text/x-python",
   "name": "python",
   "nbconvert_exporter": "python",
   "pygments_lexer": "ipython3",
   "version": "3.10.13"
  }
 },
 "nbformat": 4,
 "nbformat_minor": 5
}
