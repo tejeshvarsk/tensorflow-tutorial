{
 "cells": [
  {
   "cell_type": "code",
   "execution_count": 1,
   "id": "eee381da-d4f9-4cf2-a088-3bd9b53fdd74",
   "metadata": {},
   "outputs": [],
   "source": [
    "import tensorflow as tf\n",
    "import keras\n",
    "from datetime import datetime\n",
    "\n",
    "%load_ext tensorboard"
   ]
  },
  {
   "cell_type": "code",
   "execution_count": 2,
   "id": "c3c623cd-204c-4490-9584-b94d7dac01cc",
   "metadata": {},
   "outputs": [
    {
     "data": {
      "text/plain": [
       "<tf.Tensor: shape=(), dtype=float32, numpy=50.0>"
      ]
     },
     "execution_count": 2,
     "metadata": {},
     "output_type": "execute_result"
    }
   ],
   "source": [
    "class SimpleModule(tf.Module):\n",
    "    def __init__(self, name=None):\n",
    "        super().__init__(name=name)\n",
    "        self.a = tf.Variable(5.0, trainable=True, name=\"train_me\")\n",
    "        self.b = tf.Variable(5.0, trainable=False, name=\"dont_train_me\")\n",
    "    def __call__(self, x):\n",
    "        return x * self.a + x * self.b\n",
    "\n",
    "mod1=SimpleModule(name=\"mod1\")\n",
    "mod1(5)"
   ]
  },
  {
   "cell_type": "code",
   "execution_count": 3,
   "id": "e5d015c5-6ab4-4f67-8791-40727025bc1b",
   "metadata": {},
   "outputs": [
    {
     "data": {
      "text/plain": [
       "(<tf.Variable 'train_me:0' shape=() dtype=float32, numpy=5.0>,)"
      ]
     },
     "execution_count": 3,
     "metadata": {},
     "output_type": "execute_result"
    }
   ],
   "source": [
    "mod1.trainable_variables"
   ]
  },
  {
   "cell_type": "code",
   "execution_count": 4,
   "id": "942599b2-ea1f-4737-8675-0781b1dcd908",
   "metadata": {},
   "outputs": [
    {
     "data": {
      "text/plain": [
       "(<tf.Variable 'dont_train_me:0' shape=() dtype=float32, numpy=5.0>,)"
      ]
     },
     "execution_count": 4,
     "metadata": {},
     "output_type": "execute_result"
    }
   ],
   "source": [
    "mod1.non_trainable_variables"
   ]
  },
  {
   "cell_type": "code",
   "execution_count": 5,
   "id": "a4c04b2a-ed55-431e-b891-5017dcf7cf21",
   "metadata": {},
   "outputs": [],
   "source": [
    "class Dense(tf.Module):\n",
    "    def __init__(self, in_features,out_features, name=None):\n",
    "        super().__init__(name=name)\n",
    "        self.w = tf.Variable(tf.random.normal(shape=(in_features, out_features)), name=\"w\")\n",
    "        self.b = tf.Variable(tf.random.normal(shape=(1, out_features)), name=\"b\")\n",
    "    def __call__(self,x):\n",
    "        y= tf.matmul(x,self.w)+self.b\n",
    "        return tf.nn.softmax(y)\n"
   ]
  },
  {
   "cell_type": "code",
   "execution_count": 6,
   "id": "33d75d8b-5b5f-402a-b755-d28cf574298e",
   "metadata": {},
   "outputs": [
    {
     "data": {
      "text/plain": [
       "<tf.Tensor: shape=(1, 2), dtype=float32, numpy=array([[0.01232626, 0.9876737 ]], dtype=float32)>"
      ]
     },
     "execution_count": 6,
     "metadata": {},
     "output_type": "execute_result"
    }
   ],
   "source": [
    "class Sequential(tf.Module):\n",
    "    def __init__(self, name=None):\n",
    "        super().__init__(name)\n",
    "        self.dense1 = Dense(3,3,name='dense1')\n",
    "        self.dense2 = Dense(3,2,name='dense2')\n",
    "    def __call__(self,x):\n",
    "        x = self.dense1(x)\n",
    "        return self.dense2(x)\n",
    "\n",
    "x= tf.constant([ [1.,2.,3.]])\n",
    "seq_mod = Sequential(name='seq_mod')\n",
    "seq_mod(x)"
   ]
  },
  {
   "cell_type": "code",
   "execution_count": 7,
   "id": "66c20c02-d86b-4d81-a57e-fbae49efe7b8",
   "metadata": {},
   "outputs": [
    {
     "data": {
      "text/plain": [
       "(<__main__.Dense at 0x14abb4e80>, <__main__.Dense at 0x14ab832e0>)"
      ]
     },
     "execution_count": 7,
     "metadata": {},
     "output_type": "execute_result"
    }
   ],
   "source": [
    "seq_mod.submodules"
   ]
  },
  {
   "cell_type": "code",
   "execution_count": 8,
   "id": "220fc8e9-cc53-4b2b-b2dd-63a36b23ffe6",
   "metadata": {},
   "outputs": [
    {
     "data": {
      "text/plain": [
       "(<tf.Variable 'b:0' shape=(1, 3) dtype=float32, numpy=array([[-0.9973821,  2.209878 ,  1.1785421]], dtype=float32)>,\n",
       " <tf.Variable 'w:0' shape=(3, 3) dtype=float32, numpy=\n",
       " array([[-0.15010975, -1.5529915 ,  1.6065135 ],\n",
       "        [ 0.34934926,  0.20236862,  1.4073561 ],\n",
       "        [-0.60944146, -1.4005055 ,  1.7258562 ]], dtype=float32)>,\n",
       " <tf.Variable 'b:0' shape=(1, 2) dtype=float32, numpy=array([[-1.1561724,  1.5592358]], dtype=float32)>,\n",
       " <tf.Variable 'w:0' shape=(3, 2) dtype=float32, numpy=\n",
       " array([[ 1.9516275 ,  0.47359705],\n",
       "        [ 0.82912385, -0.3845102 ],\n",
       "        [ 0.7749526 ,  2.4431744 ]], dtype=float32)>)"
      ]
     },
     "execution_count": 8,
     "metadata": {},
     "output_type": "execute_result"
    }
   ],
   "source": [
    "seq_mod.variables"
   ]
  },
  {
   "cell_type": "code",
   "execution_count": 9,
   "id": "064ae6cd-9da9-4d3f-a617-ae82b8c5bc89",
   "metadata": {},
   "outputs": [
    {
     "data": {
      "text/plain": [
       "'my_checkpoint'"
      ]
     },
     "execution_count": 9,
     "metadata": {},
     "output_type": "execute_result"
    }
   ],
   "source": [
    "chkp_path='my_checkpoint'\n",
    "checkpoint1 = tf.train.Checkpoint(model=seq_mod)\n",
    "checkpoint1.write(chkp_path)"
   ]
  },
  {
   "cell_type": "code",
   "execution_count": 10,
   "id": "ec729116-f440-4b9c-b4f0-d58352d09933",
   "metadata": {},
   "outputs": [
    {
     "data": {
      "text/plain": [
       "[('_CHECKPOINTABLE_OBJECT_GRAPH', []),\n",
       " ('model/dense1/b/.ATTRIBUTES/VARIABLE_VALUE', [1, 3]),\n",
       " ('model/dense1/w/.ATTRIBUTES/VARIABLE_VALUE', [3, 3]),\n",
       " ('model/dense2/b/.ATTRIBUTES/VARIABLE_VALUE', [1, 2]),\n",
       " ('model/dense2/w/.ATTRIBUTES/VARIABLE_VALUE', [3, 2])]"
      ]
     },
     "execution_count": 10,
     "metadata": {},
     "output_type": "execute_result"
    }
   ],
   "source": [
    "tf.train.list_variables(chkp_path)"
   ]
  },
  {
   "cell_type": "code",
   "execution_count": 11,
   "id": "513930f2-326a-4f4e-a668-1612258d43bc",
   "metadata": {},
   "outputs": [
    {
     "data": {
      "text/plain": [
       "(<tf.Variable 'b:0' shape=(1, 3) dtype=float32, numpy=array([[-0.9973821,  2.209878 ,  1.1785421]], dtype=float32)>,\n",
       " <tf.Variable 'w:0' shape=(3, 3) dtype=float32, numpy=\n",
       " array([[-0.15010975, -1.5529915 ,  1.6065135 ],\n",
       "        [ 0.34934926,  0.20236862,  1.4073561 ],\n",
       "        [-0.60944146, -1.4005055 ,  1.7258562 ]], dtype=float32)>,\n",
       " <tf.Variable 'b:0' shape=(1, 2) dtype=float32, numpy=array([[-1.1561724,  1.5592358]], dtype=float32)>,\n",
       " <tf.Variable 'w:0' shape=(3, 2) dtype=float32, numpy=\n",
       " array([[ 1.9516275 ,  0.47359705],\n",
       "        [ 0.82912385, -0.3845102 ],\n",
       "        [ 0.7749526 ,  2.4431744 ]], dtype=float32)>)"
      ]
     },
     "execution_count": 11,
     "metadata": {},
     "output_type": "execute_result"
    }
   ],
   "source": [
    "new_model = Sequential()\n",
    "new_chkpoint = tf.train.Checkpoint(model=new_model)\n",
    "new_chkpoint.restore('my_checkpoint')\n",
    "new_model.variables"
   ]
  },
  {
   "cell_type": "code",
   "execution_count": 12,
   "id": "a6e83cc0-fd7f-4cb2-9b5e-24190788defa",
   "metadata": {},
   "outputs": [
    {
     "data": {
      "text/plain": [
       "<tf.Tensor: shape=(1, 2), dtype=float32, numpy=array([[0.01232626, 0.9876737 ]], dtype=float32)>"
      ]
     },
     "execution_count": 12,
     "metadata": {},
     "output_type": "execute_result"
    }
   ],
   "source": [
    "new_model(x)"
   ]
  },
  {
   "cell_type": "code",
   "execution_count": 13,
   "id": "80c2b8b5-4140-4c75-b3ac-824d10ef0023",
   "metadata": {},
   "outputs": [
    {
     "name": "stdout",
     "output_type": "stream",
     "text": [
      "INFO:tensorflow:Assets written to: model1/assets\n"
     ]
    }
   ],
   "source": [
    "tf.saved_model.save(seq_mod, 'model1')"
   ]
  },
  {
   "cell_type": "code",
   "execution_count": 14,
   "id": "1e24d5ce-4007-49a9-94cf-c821b0642e95",
   "metadata": {},
   "outputs": [],
   "source": [
    "mod2=tf.saved_model.load('model1')"
   ]
  },
  {
   "cell_type": "code",
   "execution_count": 15,
   "id": "cad21a77-b80f-4ff2-8eee-5a5d3f45628c",
   "metadata": {},
   "outputs": [
    {
     "data": {
      "text/plain": [
       "<tf.Tensor: shape=(1, 3), dtype=float32, numpy=array([[0.53348   , 0.46411914, 0.00240087]], dtype=float32)>"
      ]
     },
     "execution_count": 15,
     "metadata": {},
     "output_type": "execute_result"
    }
   ],
   "source": [
    "class MyDense(tf.keras.layers.Layer):\n",
    "    def __init__(self, in_features, out_features, **kwargs):\n",
    "        super().__init__(**kwargs)\n",
    "        self.w = tf.Variable( tf.random.normal(shape=[in_features,out_features]), name=\"w\")\n",
    "        self.b = tf.Variable(tf.zeros(shape=[1,out_features]), name=\"b\")\n",
    "    def call(self, x):\n",
    "            x = tf.matmul(x, self.w) + self.b\n",
    "            return tf.nn.softmax(x)\n",
    "\n",
    "simple_layer = MyDense(name=\"simple\", in_features=3, out_features=3)\n",
    "simple_layer(x)"
   ]
  },
  {
   "cell_type": "code",
   "execution_count": 16,
   "id": "b8397f6f-4a61-4090-b08a-3c6b0918c591",
   "metadata": {},
   "outputs": [
    {
     "data": {
      "text/plain": [
       "<tf.Tensor: shape=(1, 3), dtype=float32, numpy=array([[0.00676718, 0.00218155, 0.9910513 ]], dtype=float32)>"
      ]
     },
     "execution_count": 16,
     "metadata": {},
     "output_type": "execute_result"
    }
   ],
   "source": [
    "class FlexibleDense(tf.keras.layers.Layer):\n",
    "    def __init__(self, out_features, **kwargs):\n",
    "        super().__init__(**kwargs)\n",
    "        self.out_features = out_features\n",
    "    def build(self, input_shape):\n",
    "        self.w = tf.Variable( tf.random.normal(shape=[input_shape[-1],self.out_features]), name=\"w\")\n",
    "        self.b = tf.Variable(tf.zeros(shape=[1,self.out_features]), name=\"b\")\n",
    "    def call(self, x):\n",
    "            x = tf.matmul(x, self.w) + self.b\n",
    "            return tf.nn.softmax(x)\n",
    "flex_layer = FlexibleDense(name=\"simple\", out_features=3)\n",
    "flex_layer(x)"
   ]
  },
  {
   "cell_type": "code",
   "execution_count": 17,
   "id": "f104d992-cfba-4443-aa75-4baaf3b3362f",
   "metadata": {},
   "outputs": [
    {
     "data": {
      "text/plain": [
       "[<tf.Variable 'simple/w:0' shape=(3, 3) dtype=float32, numpy=\n",
       " array([[-0.38703758,  1.190179  ,  0.9455425 ],\n",
       "        [-0.5336971 ,  1.0311134 ,  1.0871806 ],\n",
       "        [ 0.10656951, -1.8397255 ,  0.24401845]], dtype=float32)>,\n",
       " <tf.Variable 'simple/b:0' shape=(1, 3) dtype=float32, numpy=array([[0., 0., 0.]], dtype=float32)>]"
      ]
     },
     "execution_count": 17,
     "metadata": {},
     "output_type": "execute_result"
    }
   ],
   "source": [
    "flex_layer.variables"
   ]
  },
  {
   "cell_type": "code",
   "execution_count": 18,
   "id": "53f8b7b7-ffbb-4a2f-8c77-87af85d47c4a",
   "metadata": {},
   "outputs": [],
   "source": [
    "x1=[[1.,2.]]\n",
    "# flex_layer(x1)"
   ]
  },
  {
   "cell_type": "code",
   "execution_count": 19,
   "id": "c4294cd3-ec03-479f-8616-53177bfa02fb",
   "metadata": {},
   "outputs": [],
   "source": [
    "class MySequentialModel(tf.keras.Model):\n",
    "    def __init__(self, name=None, **kwargs):\n",
    "        super().__init__(**kwargs)\n",
    "        self.dense1 = FlexibleDense(out_features=3)\n",
    "        self.dense2 = FlexibleDense(out_features=2)\n",
    "        \n",
    "    def call(self, x):\n",
    "        x = self.dense1(x)\n",
    "        return self.dense2(x)\n",
    "\n",
    "my_sequential_model=MySequentialModel(name='MySequentialModel')"
   ]
  },
  {
   "cell_type": "code",
   "execution_count": 21,
   "id": "07c3ab36-729f-4ef4-b495-81890ffdc10a",
   "metadata": {},
   "outputs": [
    {
     "data": {
      "text/plain": [
       "[]"
      ]
     },
     "execution_count": 21,
     "metadata": {},
     "output_type": "execute_result"
    }
   ],
   "source": [
    "my_sequential_model.variables"
   ]
  },
  {
   "cell_type": "code",
   "execution_count": 22,
   "id": "45385e27-a6b3-4c37-888f-846683b69477",
   "metadata": {},
   "outputs": [
    {
     "data": {
      "text/plain": [
       "<tf.Tensor: shape=(1, 2), dtype=float32, numpy=array([[0.70187306, 0.2981269 ]], dtype=float32)>"
      ]
     },
     "execution_count": 22,
     "metadata": {},
     "output_type": "execute_result"
    }
   ],
   "source": [
    "x=tf.constant([[1.,2.,3.]])\n",
    "my_sequential_model(x)"
   ]
  },
  {
   "cell_type": "code",
   "execution_count": 23,
   "id": "b9147df2-d059-4357-9b10-156c7944c9a6",
   "metadata": {},
   "outputs": [
    {
     "data": {
      "text/plain": [
       "[<tf.Variable 'my_sequential_model/flexible_dense/w:0' shape=(3, 3) dtype=float32, numpy=\n",
       " array([[-0.40164053,  0.5788735 , -0.89743245],\n",
       "        [-0.46564883,  1.0050181 ,  0.27754086],\n",
       "        [ 1.5531322 , -0.00512442,  0.21605258]], dtype=float32)>,\n",
       " <tf.Variable 'my_sequential_model/flexible_dense/b:0' shape=(1, 3) dtype=float32, numpy=array([[0., 0., 0.]], dtype=float32)>,\n",
       " <tf.Variable 'my_sequential_model/flexible_dense_1/w:0' shape=(3, 2) dtype=float32, numpy=\n",
       " array([[ 1.5544016 , -0.05727765],\n",
       "        [-0.45261735, -0.0070276 ],\n",
       "        [-1.7785462 ,  0.28308097]], dtype=float32)>,\n",
       " <tf.Variable 'my_sequential_model/flexible_dense_1/b:0' shape=(1, 2) dtype=float32, numpy=array([[0., 0.]], dtype=float32)>]"
      ]
     },
     "execution_count": 23,
     "metadata": {},
     "output_type": "execute_result"
    }
   ],
   "source": [
    "my_sequential_model.variables"
   ]
  },
  {
   "cell_type": "code",
   "execution_count": 24,
   "id": "2854cf8e-93d5-4733-9b6d-203de06c845d",
   "metadata": {},
   "outputs": [
    {
     "data": {
      "text/plain": [
       "(<__main__.FlexibleDense at 0x14d403f10>,\n",
       " <__main__.FlexibleDense at 0x14d40b4f0>)"
      ]
     },
     "execution_count": 24,
     "metadata": {},
     "output_type": "execute_result"
    }
   ],
   "source": [
    "my_sequential_model.submodules"
   ]
  },
  {
   "cell_type": "code",
   "execution_count": 25,
   "id": "3ad2712b-b6c7-40fd-870f-c3bc9c52a570",
   "metadata": {},
   "outputs": [
    {
     "name": "stdout",
     "output_type": "stream",
     "text": [
      "Model: \"my_sequential_model\"\n",
      "_________________________________________________________________\n",
      " Layer (type)                Output Shape              Param #   \n",
      "=================================================================\n",
      " flexible_dense (FlexibleDe  multiple                  12        \n",
      " nse)                                                            \n",
      "                                                                 \n",
      " flexible_dense_1 (Flexible  multiple                  8         \n",
      " Dense)                                                          \n",
      "                                                                 \n",
      "=================================================================\n",
      "Total params: 20 (80.00 Byte)\n",
      "Trainable params: 20 (80.00 Byte)\n",
      "Non-trainable params: 0 (0.00 Byte)\n",
      "_________________________________________________________________\n"
     ]
    }
   ],
   "source": [
    "my_sequential_model.summary()"
   ]
  },
  {
   "cell_type": "code",
   "execution_count": 27,
   "id": "1fbfd529-bfcc-4f49-808d-c98eaf81794b",
   "metadata": {},
   "outputs": [],
   "source": [
    "inputs = tf.keras.Input(shape=[1,3])\n",
    "x = FlexibleDense(3)(inputs)\n",
    "output = FlexibleDense(2)(x)\n",
    "my_functional_model = tf.keras.Model(inputs=inputs, outputs=output)"
   ]
  },
  {
   "cell_type": "code",
   "execution_count": 28,
   "id": "5a1eaba6-801a-411a-bc3e-b590d984e2dc",
   "metadata": {},
   "outputs": [
    {
     "name": "stdout",
     "output_type": "stream",
     "text": [
      "Model: \"model\"\n",
      "_________________________________________________________________\n",
      " Layer (type)                Output Shape              Param #   \n",
      "=================================================================\n",
      " input_2 (InputLayer)        [(None, 1, 3)]            0         \n",
      "                                                                 \n",
      " flexible_dense_4 (Flexible  (None, 1, 3)              12        \n",
      " Dense)                                                          \n",
      "                                                                 \n",
      " flexible_dense_5 (Flexible  (None, 1, 2)              8         \n",
      " Dense)                                                          \n",
      "                                                                 \n",
      "=================================================================\n",
      "Total params: 20 (80.00 Byte)\n",
      "Trainable params: 20 (80.00 Byte)\n",
      "Non-trainable params: 0 (0.00 Byte)\n",
      "_________________________________________________________________\n"
     ]
    }
   ],
   "source": [
    "my_functional_model.summary()"
   ]
  },
  {
   "cell_type": "code",
   "execution_count": 29,
   "id": "bfe81975-ecaf-40d2-83d8-f7d11b94696e",
   "metadata": {},
   "outputs": [
    {
     "name": "stdout",
     "output_type": "stream",
     "text": [
      "INFO:tensorflow:Assets written to: mykerasmodel/assets\n"
     ]
    },
    {
     "name": "stderr",
     "output_type": "stream",
     "text": [
      "INFO:tensorflow:Assets written to: mykerasmodel/assets\n"
     ]
    }
   ],
   "source": [
    "my_sequential_model.save('mykerasmodel')"
   ]
  },
  {
   "cell_type": "code",
   "execution_count": 34,
   "id": "2b82d7f6-4fc0-4afe-9da7-9bb9c624dd1c",
   "metadata": {},
   "outputs": [
    {
     "name": "stdout",
     "output_type": "stream",
     "text": [
      "WARNING:tensorflow:No training configuration found in save file, so the model was *not* compiled. Compile it manually.\n"
     ]
    },
    {
     "name": "stderr",
     "output_type": "stream",
     "text": [
      "WARNING:tensorflow:No training configuration found in save file, so the model was *not* compiled. Compile it manually.\n"
     ]
    },
    {
     "data": {
      "text/plain": [
       "<tf.Tensor: shape=(2, 2), dtype=float32, numpy=\n",
       "array([[0.45493528, 0.5450648 ],\n",
       "       [0.45493528, 0.5450648 ]], dtype=float32)>"
      ]
     },
     "execution_count": 34,
     "metadata": {},
     "output_type": "execute_result"
    }
   ],
   "source": [
    "reconstructed_model = tf.keras.models.load_model('mykerasmodel')\n",
    "reconstructed_model(tf.constant([[2.0, 2.0, 2.0],[2.0, 2.0, 2.0]]))"
   ]
  },
  {
   "cell_type": "code",
   "execution_count": null,
   "id": "a47e3338-2abe-4eb8-9f9c-e09dd5f254d9",
   "metadata": {},
   "outputs": [],
   "source": []
  }
 ],
 "metadata": {
  "kernelspec": {
   "display_name": "tf_env",
   "language": "python",
   "name": "tf_env"
  },
  "language_info": {
   "codemirror_mode": {
    "name": "ipython",
    "version": 3
   },
   "file_extension": ".py",
   "mimetype": "text/x-python",
   "name": "python",
   "nbconvert_exporter": "python",
   "pygments_lexer": "ipython3",
   "version": "3.10.13"
  }
 },
 "nbformat": 4,
 "nbformat_minor": 5
}
