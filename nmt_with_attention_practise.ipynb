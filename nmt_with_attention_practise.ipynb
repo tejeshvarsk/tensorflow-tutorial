{
 "cells": [
  {
   "cell_type": "code",
   "execution_count": 1,
   "id": "afda0806-e858-4d2e-8593-fe7ea89caa47",
   "metadata": {},
   "outputs": [
    {
     "name": "stderr",
     "output_type": "stream",
     "text": [
      "2024-03-12 06:01:45.765641: I external/local_tsl/tsl/cuda/cudart_stub.cc:31] Could not find cuda drivers on your machine, GPU will not be used.\n",
      "2024-03-12 06:01:46.279634: E external/local_xla/xla/stream_executor/cuda/cuda_dnn.cc:9261] Unable to register cuDNN factory: Attempting to register factory for plugin cuDNN when one has already been registered\n",
      "2024-03-12 06:01:46.279671: E external/local_xla/xla/stream_executor/cuda/cuda_fft.cc:607] Unable to register cuFFT factory: Attempting to register factory for plugin cuFFT when one has already been registered\n",
      "2024-03-12 06:01:46.288292: E external/local_xla/xla/stream_executor/cuda/cuda_blas.cc:1515] Unable to register cuBLAS factory: Attempting to register factory for plugin cuBLAS when one has already been registered\n",
      "2024-03-12 06:01:46.310346: I external/local_tsl/tsl/cuda/cudart_stub.cc:31] Could not find cuda drivers on your machine, GPU will not be used.\n",
      "2024-03-12 06:01:46.311250: I tensorflow/core/platform/cpu_feature_guard.cc:182] This TensorFlow binary is optimized to use available CPU instructions in performance-critical operations.\n",
      "To enable the following instructions: AVX2 FMA, in other operations, rebuild TensorFlow with the appropriate compiler flags.\n",
      "2024-03-12 06:01:48.495465: W tensorflow/compiler/tf2tensorrt/utils/py_utils.cc:38] TF-TRT Warning: Could not find TensorRT\n"
     ]
    }
   ],
   "source": [
    "import tensorflow as tf\n",
    "import numpy as np\n",
    "import pathlib\n",
    "import warnings\n",
    "import tensorflow_text as tf_text\n",
    "warnings.filterwarnings('ignore')"
   ]
  },
  {
   "cell_type": "code",
   "execution_count": 2,
   "id": "8f8dc349-2017-4c2f-b221-1665cde4931d",
   "metadata": {},
   "outputs": [
    {
     "data": {
      "text/plain": [
       "PosixPath('/home/krsethur/.keras/datasets/spa-eng/spa.txt')"
      ]
     },
     "execution_count": 2,
     "metadata": {},
     "output_type": "execute_result"
    }
   ],
   "source": [
    "path_to_file = tf.keras.utils.get_file(\"spa-eng.zip\", origin='http://storage.googleapis.com/download.tensorflow.org/data/spa-eng.zip', extract=True)\n",
    "path_to_file = pathlib.Path(path_to_file).parent/'spa-eng/spa.txt'\n",
    "path_to_file"
   ]
  },
  {
   "cell_type": "code",
   "execution_count": 3,
   "id": "887a1fa6-4859-46e4-a91f-bbcf11f047b2",
   "metadata": {},
   "outputs": [],
   "source": [
    "def load_data(path):\n",
    "    text = path.read_text(encoding=\"utf-8\")\n",
    "    lines = text.splitlines()\n",
    "    pairs = [line.split(\"\\t\") for line in lines]\n",
    "    context = np.array([context for target,context in pairs])\n",
    "    target = np.array([target for target,context in pairs])\n",
    "    return context, target"
   ]
  },
  {
   "cell_type": "code",
   "execution_count": 4,
   "id": "ebfece0d-4903-435b-927b-74ea051abea2",
   "metadata": {},
   "outputs": [],
   "source": [
    "context_raw, target_raw = load_data(path_to_file)"
   ]
  },
  {
   "cell_type": "code",
   "execution_count": 5,
   "id": "0012ce04-2d7d-42b7-93a5-391a7b908dec",
   "metadata": {},
   "outputs": [
    {
     "data": {
      "text/plain": [
       "(118964,)"
      ]
     },
     "execution_count": 5,
     "metadata": {},
     "output_type": "execute_result"
    }
   ],
   "source": [
    "context_raw.shape"
   ]
  },
  {
   "cell_type": "code",
   "execution_count": 6,
   "id": "9c4574ba-2afa-40e6-8660-4124eb9870fa",
   "metadata": {},
   "outputs": [
    {
     "data": {
      "text/plain": [
       "'Si quieres sonar como un hablante nativo, debes estar dispuesto a practicar diciendo la misma frase una y otra vez de la misma manera en que un músico de banjo practica el mismo fraseo una y otra vez hasta que lo puedan tocar correctamente y en el tiempo esperado.'"
      ]
     },
     "execution_count": 6,
     "metadata": {},
     "output_type": "execute_result"
    }
   ],
   "source": [
    "context_raw[-1]"
   ]
  },
  {
   "cell_type": "code",
   "execution_count": 7,
   "id": "7f01ceef-98ef-4d21-ab56-c548eaa18cd3",
   "metadata": {},
   "outputs": [
    {
     "data": {
      "text/plain": [
       "'If you want to sound like a native speaker, you must be willing to practice saying the same sentence over and over in the same way that banjo players practice the same phrase over and over until they can play it correctly and at the desired tempo.'"
      ]
     },
     "execution_count": 7,
     "metadata": {},
     "output_type": "execute_result"
    }
   ],
   "source": [
    "target_raw[-1]"
   ]
  },
  {
   "cell_type": "code",
   "execution_count": 8,
   "id": "bb5ab1f3-d5b0-4f4b-80d3-5be2bd781533",
   "metadata": {},
   "outputs": [],
   "source": [
    "BUFFER_SIZE=len(target_raw)\n",
    "BATCH_SIZE=64\n",
    "is_train = np.random.uniform(size=(len(target_raw,))) < 0.8\n",
    "train_raw = tf.data.Dataset.from_tensor_slices( (context_raw[is_train], target_raw[is_train]) ).shuffle(BUFFER_SIZE).batch(BATCH_SIZE)\n",
    "val_raw = tf.data.Dataset.from_tensor_slices( (context_raw[~is_train], target_raw[~is_train]) ).shuffle(BUFFER_SIZE).batch(BATCH_SIZE)"
   ]
  },
  {
   "cell_type": "code",
   "execution_count": 9,
   "id": "ff8c6de6-9395-44ba-865d-a5a08d6ec5ba",
   "metadata": {},
   "outputs": [
    {
     "name": "stdout",
     "output_type": "stream",
     "text": [
      "tf.Tensor(\n",
      "[b'\\xc3\\x89l es un hombre cruel.' b'El ruido me pone nervioso.'\n",
      " b'Ella tembl\\xc3\\xb3 de miedo.' b'Apreciamos su paciencia.'\n",
      " b'El avi\\xc3\\xb3n despegar\\xc3\\xa1 en diez minutos.'], shape=(5,), dtype=string)\n",
      "tf.Tensor(\n",
      "[b'He is a cruel person.' b'The noise gets on my nerves.'\n",
      " b'She trembled with fear.' b'We appreciate your patience.'\n",
      " b'The plane takes off in ten minutes.'], shape=(5,), dtype=string)\n"
     ]
    }
   ],
   "source": [
    "for (example_context_strings, example_target_strings) in train_raw.take(1):\n",
    "    print(example_context_strings[:5])\n",
    "    print(example_target_strings[:5])"
   ]
  },
  {
   "cell_type": "code",
   "execution_count": 10,
   "id": "efd9c3cb-561e-4b51-bb04-7f8667fd36b0",
   "metadata": {},
   "outputs": [],
   "source": [
    "def tf_lower_and_split_punct(text):\n",
    "    text = tf_text.normalize_utf8(text, \"NFKD\")\n",
    "    text = tf.strings.lower(text)\n",
    "    text = tf.strings.regex_replace(text, '[^ a-z.?!,¿]', '')\n",
    "    text = tf.strings.regex_replace(text, '[.?!,¿]', r' \\0 ')\n",
    "    text = tf.strings.strip(text)\n",
    "    text = tf.strings.join( [ '[START]', text, '[END]' ], separator=' ')\n",
    "    return text"
   ]
  },
  {
   "cell_type": "code",
   "execution_count": 11,
   "id": "d7e31dd1-0ce9-4845-9bad-621aeea4d761",
   "metadata": {},
   "outputs": [
    {
     "name": "stdout",
     "output_type": "stream",
     "text": [
      "[START] ¿ todavia esta en casa ? [END]\n"
     ]
    }
   ],
   "source": [
    "example_text = tf.constant('¿Todavía está en casa?')\n",
    "print(tf_lower_and_split_punct(example_text).numpy().decode('UTF-8'))"
   ]
  },
  {
   "cell_type": "code",
   "execution_count": 12,
   "id": "d5a006d1-c187-4a9c-bea3-1b13351c9f64",
   "metadata": {},
   "outputs": [],
   "source": [
    "max_vocab_size=5000\n",
    "context_text_processor = tf.keras.layers.TextVectorization(max_tokens=max_vocab_size, standardize=tf_lower_and_split_punct, ragged=True)\n",
    "context_text_processor.adapt(train_raw.map(lambda context, target : context))"
   ]
  },
  {
   "cell_type": "code",
   "execution_count": 13,
   "id": "561836db-d1e1-4d0d-b1da-7e5f9890a4bd",
   "metadata": {},
   "outputs": [],
   "source": [
    "target_text_processor = tf.keras.layers.TextVectorization(max_tokens=max_vocab_size, standardize=tf_lower_and_split_punct, ragged=True)\n",
    "target_text_processor.adapt(train_raw.map(lambda context, target : target))"
   ]
  },
  {
   "cell_type": "code",
   "execution_count": 14,
   "id": "d3e0c076-7957-4a63-9fe8-94cca1f20d6a",
   "metadata": {},
   "outputs": [
    {
     "data": {
      "text/plain": [
       "<tf.RaggedTensor [[2, 7, 15, 16, 145, 2368, 4, 3], [2, 7, 570, 18, 1203, 1356, 4, 3],\n",
       " [2, 28, 1, 6, 360, 4, 3], [2, 1, 25, 1224, 4, 3],\n",
       " [2, 7, 482, 1, 14, 271, 364, 4, 3]]>"
      ]
     },
     "execution_count": 14,
     "metadata": {},
     "output_type": "execute_result"
    }
   ],
   "source": [
    "context_text_processor(example_context_strings[:5])"
   ]
  },
  {
   "cell_type": "code",
   "execution_count": 15,
   "id": "a0678f2e-0434-429f-8710-c3c1ad8bb9a7",
   "metadata": {},
   "outputs": [
    {
     "data": {
      "text/plain": [
       "<tf.RaggedTensor [[2, 13, 12, 10, 1899, 295, 4, 3], [2, 5, 653, 557, 34, 24, 2601, 4, 3],\n",
       " [2, 26, 1, 36, 1006, 4, 3], [2, 32, 1328, 33, 1458, 4, 3],\n",
       " [2, 5, 597, 620, 164, 14, 354, 434, 4, 3]]>"
      ]
     },
     "execution_count": 15,
     "metadata": {},
     "output_type": "execute_result"
    }
   ],
   "source": [
    "target_text_processor(example_target_strings[:5])"
   ]
  },
  {
   "cell_type": "code",
   "execution_count": 16,
   "id": "d653fc5b-a3e3-4f68-8335-2830b87d2e70",
   "metadata": {},
   "outputs": [
    {
     "data": {
      "text/plain": [
       "['', '[UNK]', '[START]', '[END]', '.', 'que', 'de', 'el', 'a', 'no']"
      ]
     },
     "execution_count": 16,
     "metadata": {},
     "output_type": "execute_result"
    }
   ],
   "source": [
    "context_text_processor.get_vocabulary()[:10]"
   ]
  },
  {
   "cell_type": "code",
   "execution_count": 17,
   "id": "59c0e298-3dfe-4592-8b07-e0c64a79d53b",
   "metadata": {},
   "outputs": [
    {
     "data": {
      "text/plain": [
       "['', '[UNK]', '[START]', '[END]', '.', 'the', 'i', 'to', 'you', 'tom']"
      ]
     },
     "execution_count": 17,
     "metadata": {},
     "output_type": "execute_result"
    }
   ],
   "source": [
    "target_text_processor.get_vocabulary()[:10]"
   ]
  },
  {
   "cell_type": "code",
   "execution_count": 18,
   "id": "39b2098c-52a6-4748-997b-5ba7b27aa0ac",
   "metadata": {},
   "outputs": [],
   "source": [
    "def process_text(context, target):\n",
    "    context = context_text_processor(context).to_tensor()\n",
    "    target = target_text_processor(target)\n",
    "    targ_in = target[:,:-1].to_tensor()\n",
    "    targ_out = target[:,1:].to_tensor()\n",
    "    return (context, targ_in), targ_out"
   ]
  },
  {
   "cell_type": "code",
   "execution_count": 19,
   "id": "cf33d716-74d5-4bb2-a77b-f3a6520c0c06",
   "metadata": {},
   "outputs": [],
   "source": [
    "train_ds = train_raw.map(process_text, tf.data.AUTOTUNE)\n",
    "val_ds = val_raw.map(process_text, tf.data.AUTOTUNE)"
   ]
  },
  {
   "cell_type": "code",
   "execution_count": 20,
   "id": "9d78faed-8259-40ad-8bfd-bcbcce843099",
   "metadata": {},
   "outputs": [
    {
     "name": "stdout",
     "output_type": "stream",
     "text": [
      "tf.Tensor(\n",
      "[   2   10   34   32   64 1923   38   11  134   34    7  100    4    3\n",
      "    0    0    0    0    0    0    0], shape=(21,), dtype=int64)\n",
      "tf.Tensor([  2   9  40  31  28  57 660  57 160  40 108   4   0   0   0   0   0   0], shape=(18,), dtype=int64)\n",
      "tf.Tensor([  9  40  31  28  57 660  57 160  40 108   4   3   0   0   0   0   0   0], shape=(18,), dtype=int64)\n"
     ]
    }
   ],
   "source": [
    "for (ex_context_tok, ex_tar_in), ex_tar_out in train_ds.take(1):\n",
    "    print(ex_context_tok[0])\n",
    "    print(ex_tar_in[0])\n",
    "    print(ex_tar_out[0])"
   ]
  },
  {
   "cell_type": "code",
   "execution_count": 21,
   "id": "94fea5b9-465e-4be1-8c25-6042952fc4c6",
   "metadata": {},
   "outputs": [
    {
     "data": {
      "text/plain": [
       "TensorShape([64, 21])"
      ]
     },
     "execution_count": 21,
     "metadata": {},
     "output_type": "execute_result"
    }
   ],
   "source": [
    "ex_context_tok.shape"
   ]
  },
  {
   "cell_type": "code",
   "execution_count": 22,
   "id": "aa9c3ec8-9064-40d8-87be-6eeb89d6ebd4",
   "metadata": {},
   "outputs": [
    {
     "data": {
      "text/plain": [
       "TensorShape([64, 18])"
      ]
     },
     "execution_count": 22,
     "metadata": {},
     "output_type": "execute_result"
    }
   ],
   "source": [
    "ex_tar_in.shape"
   ]
  },
  {
   "cell_type": "code",
   "execution_count": 23,
   "id": "d48410a2-89a4-41f1-87a7-b5cff277f4a3",
   "metadata": {},
   "outputs": [
    {
     "data": {
      "text/plain": [
       "TensorShape([64, 18])"
      ]
     },
     "execution_count": 23,
     "metadata": {},
     "output_type": "execute_result"
    }
   ],
   "source": [
    "ex_tar_out.shape"
   ]
  },
  {
   "cell_type": "code",
   "execution_count": 24,
   "id": "e2c6e21c-5feb-4c6b-9a3a-b2bdaceaca52",
   "metadata": {},
   "outputs": [],
   "source": [
    "UNITS=256"
   ]
  },
  {
   "cell_type": "code",
   "execution_count": 25,
   "id": "e2334b12-a2d6-4897-9c1f-3c7a5c2cf1c9",
   "metadata": {},
   "outputs": [],
   "source": [
    "class Encoder(tf.keras.layers.Layer):\n",
    "    def __init__(self, text_processor, units):\n",
    "        super().__init__()\n",
    "        self.text_processor = text_processor\n",
    "        self.vocab_size = text_processor.vocabulary_size()\n",
    "        self.units = units\n",
    "        self.embedding = tf.keras.layers.Embedding(input_dim=self.vocab_size, output_dim=self.units, mask_zero=True)\n",
    "        self.rnn = tf.keras.layers.Bidirectional(merge_mode='sum', \n",
    "                                                 layer=tf.keras.layers.GRU(self.units, \n",
    "                                                                           return_sequences=True, \n",
    "                                                                           recurrent_initializer='glorot_uniform')\n",
    "                                                )\n",
    "    def call(self, context):\n",
    "        x= context\n",
    "        x = self.embedding(x)\n",
    "        x = self.rnn(x)\n",
    "        return x"
   ]
  },
  {
   "cell_type": "code",
   "execution_count": 26,
   "id": "d84f5e96-c5cd-488c-a216-a296a8cf2617",
   "metadata": {},
   "outputs": [],
   "source": [
    "encoder = Encoder(context_text_processor, UNITS)"
   ]
  },
  {
   "cell_type": "code",
   "execution_count": 27,
   "id": "d64e629a-f536-4c14-8a3d-997a28bfe726",
   "metadata": {},
   "outputs": [],
   "source": [
    "ex_context=encoder(ex_context_tok)"
   ]
  },
  {
   "cell_type": "code",
   "execution_count": 28,
   "id": "501c3e3d-42eb-4389-abee-81b23e22623f",
   "metadata": {},
   "outputs": [
    {
     "data": {
      "text/plain": [
       "TensorShape([64, 21, 256])"
      ]
     },
     "execution_count": 28,
     "metadata": {},
     "output_type": "execute_result"
    }
   ],
   "source": [
    "ex_context.shape"
   ]
  },
  {
   "cell_type": "code",
   "execution_count": 29,
   "id": "80faca16-f9b2-4d11-8748-a68e9f848c6f",
   "metadata": {},
   "outputs": [],
   "source": [
    "class CrossAttention(tf.keras.layers.Layer):\n",
    "    def __init__(self, units):\n",
    "        super().__init__()\n",
    "        self.mha = tf.keras.layers.MultiHeadAttention(key_dim=units, num_heads=1)\n",
    "        self.layernorm = tf.keras.layers.LayerNormalization()\n",
    "        self.add = tf.keras.layers.Add()\n",
    "    def call(self, x, context):\n",
    "        attn_output, attn_scores = self.mha(query=x, value=context, return_attention_scores=True)\n",
    "        attn_scores = tf.reduce_mean(attn_scores, axis=1)\n",
    "        self.last_attention_weights=attn_scores\n",
    "        x = self.add([x, attn_output])\n",
    "        return self.layernorm(x)"
   ]
  },
  {
   "cell_type": "code",
   "execution_count": 30,
   "id": "8f82d437-f5ea-497a-a314-a49c98ae913f",
   "metadata": {},
   "outputs": [],
   "source": [
    "attention_layer = CrossAttention(UNITS)\n"
   ]
  },
  {
   "cell_type": "code",
   "execution_count": 31,
   "id": "b68b17ed-de46-4e4e-a2d5-45aaa57c62ee",
   "metadata": {},
   "outputs": [
    {
     "data": {
      "text/plain": [
       "TensorShape([64, 18, 256])"
      ]
     },
     "execution_count": 31,
     "metadata": {},
     "output_type": "execute_result"
    }
   ],
   "source": [
    "embed = tf.keras.layers.Embedding(input_dim=target_text_processor.vocabulary_size(), output_dim=UNITS)\n",
    "ex_embed = embed(ex_tar_in)\n",
    "ex_embed.shape"
   ]
  },
  {
   "cell_type": "code",
   "execution_count": 32,
   "id": "824f5b7a-c4e2-463d-b80d-ed54e403e98b",
   "metadata": {},
   "outputs": [
    {
     "data": {
      "text/plain": [
       "TensorShape([64, 18, 256])"
      ]
     },
     "execution_count": 32,
     "metadata": {},
     "output_type": "execute_result"
    }
   ],
   "source": [
    "result=attention_layer(ex_embed, ex_context)\n",
    "result.shape"
   ]
  },
  {
   "cell_type": "code",
   "execution_count": 33,
   "id": "d4380c9b-d52b-4885-8bbb-0003d6fe6dcb",
   "metadata": {},
   "outputs": [
    {
     "data": {
      "text/plain": [
       "array([1.        , 1.        , 0.9999999 , 0.9999999 , 1.0000001 ,\n",
       "       0.9999999 , 1.        , 0.9999999 , 1.        , 0.9999999 ,\n",
       "       0.99999994, 1.        , 1.        , 1.        , 1.        ,\n",
       "       1.        , 1.        , 1.        ], dtype=float32)"
      ]
     },
     "execution_count": 33,
     "metadata": {},
     "output_type": "execute_result"
    }
   ],
   "source": [
    "attention_layer.last_attention_weights[0].numpy().sum(axis=-1)"
   ]
  },
  {
   "cell_type": "code",
   "execution_count": 34,
   "id": "7acdd272-32cc-49b1-ac3d-2d4144540389",
   "metadata": {},
   "outputs": [],
   "source": [
    "class Decoder(tf.keras.layers.Layer):\n",
    "    @classmethod\n",
    "    def add_method(cls, fun):\n",
    "        setattr(cls,fun.__name__,fun)\n",
    "        return fun"
   ]
  },
  {
   "cell_type": "code",
   "execution_count": 35,
   "id": "14381d3f-d2fd-47b9-8721-4bdd957893ff",
   "metadata": {},
   "outputs": [],
   "source": [
    "@Decoder.add_method\n",
    "def __init__(self, text_processor, units):\n",
    "    super(Decoder, self).__init__()\n",
    "    self.text_processor = text_processor\n",
    "    self.units = units\n",
    "    self.vocab_size = text_processor.vocabulary_size()\n",
    "    self.word_to_id = tf.keras.layers.StringLookup(vocabulary=text_processor.get_vocabulary(), mask_token='',oov_token='[UNK]')\n",
    "    self.id_to_word = tf.keras.layers.StringLookup(vocabulary=text_processor.get_vocabulary(), mask_token='',oov_token='[UNK]', invert=True)\n",
    "    self.start_token=self.word_to_id('[START]')\n",
    "    self.end_token=self.word_to_id('[END]')\n",
    "    self.embedding = tf.keras.layers.Embedding(input_dim=self.vocab_size, output_dim=self.units, mask_zero=True)\n",
    "    self.rnn = tf.keras.layers.GRU(units, return_sequences=True, return_state=True, recurrent_initializer='glorot_uniform')\n",
    "    self.attention = CrossAttention(self.units)\n",
    "    self.output_layer = tf.keras.layers.Dense(self.vocab_size)"
   ]
  },
  {
   "cell_type": "code",
   "execution_count": 36,
   "id": "3ecd1c8b-b5d7-4724-93cb-ec61f110c30f",
   "metadata": {},
   "outputs": [],
   "source": [
    "@Decoder.add_method\n",
    "def call(self, context, x, state=None, return_state=False):\n",
    "    x = self.embedding(x)\n",
    "    x,state = self.rnn(x, initial_state=state)\n",
    "    x = self.attention(x, context)\n",
    "    logits = self.output_layer(x)\n",
    "    if return_state:\n",
    "        return logits, state\n",
    "    else:\n",
    "        return logits"
   ]
  },
  {
   "cell_type": "code",
   "execution_count": 37,
   "id": "45ac112b-cd13-4aa1-b5a4-611caeba6548",
   "metadata": {},
   "outputs": [],
   "source": [
    "decoder = Decoder(target_text_processor, UNITS)"
   ]
  },
  {
   "cell_type": "code",
   "execution_count": 38,
   "id": "3716e1dc-d443-4e11-8470-06d136892943",
   "metadata": {},
   "outputs": [
    {
     "data": {
      "text/plain": [
       "TensorShape([64, 18, 5000])"
      ]
     },
     "execution_count": 38,
     "metadata": {},
     "output_type": "execute_result"
    }
   ],
   "source": [
    "decoder(ex_context,ex_tar_in).shape"
   ]
  },
  {
   "cell_type": "code",
   "execution_count": 39,
   "id": "149d4b52-5f7e-47f8-aa59-c8e2a7873b79",
   "metadata": {},
   "outputs": [],
   "source": [
    "@Decoder.add_method\n",
    "def get_initial_state(self, context):\n",
    "    batch_size = tf.shape(context)[0]\n",
    "    start_tokens = tf.fill([batch_size,1], self.start_token)\n",
    "    done = tf.zeros([batch_size,1], dtype=tf.bool)\n",
    "    embedded = self.embedding(start_tokens)\n",
    "    return start_tokens, done, self.rnn.get_initial_state(embedded)[0]"
   ]
  },
  {
   "cell_type": "code",
   "execution_count": 40,
   "id": "8f11d463-4e25-4ea5-b0a1-e9037d293713",
   "metadata": {},
   "outputs": [],
   "source": [
    "@Decoder.add_method\n",
    "def tokens_to_text(self, tokens):\n",
    "    words = self.id_to_word(tokens)\n",
    "    result = tf.strings.reduce_join(words, axis=-1, separator=' ')\n",
    "    result = tf.strings.regex_replace(result, '^ *\\[START\\] *', '')\n",
    "    result = tf.strings.regex_replace(result, ' *\\[END\\] *$', '')\n",
    "    return result"
   ]
  },
  {
   "cell_type": "code",
   "execution_count": 41,
   "id": "126f1f5f-097a-4621-852b-5f682d554415",
   "metadata": {},
   "outputs": [],
   "source": [
    "@Decoder.add_method\n",
    "def get_next_token(self, context, next_token, done, state, temperature=0.0):\n",
    "    logits, state = self(context, next_token, state, return_state=True)\n",
    "    if temperature == 0.0:\n",
    "        next_token = tf.argmax(logits, axis=-1)\n",
    "    else:\n",
    "        logits = logits[:,-1,:]/temperature\n",
    "        next_token = tf.random.categorical(logits, num_samples=1)\n",
    "    done = done | (next_token==self.end_token)\n",
    "    next_token = tf.where(done, tf.constant(0, dtype=tf.int64), next_token)\n",
    "    return next_token, done, state\n",
    "        "
   ]
  },
  {
   "cell_type": "code",
   "execution_count": 42,
   "id": "fcc726fd-c6c2-4355-8361-7f60690231a8",
   "metadata": {},
   "outputs": [
    {
     "data": {
      "text/plain": [
       "<tf.Tensor: shape=(3,), dtype=string, numpy=\n",
       "array([b'midnight model cottage high bride against foot hiking banging skirts',\n",
       "       b'midnight model cottage high bride against foot hiking banging skirts',\n",
       "       b'midnight model cottage high bride against consciousness wisely dreaming crowded'],\n",
       "      dtype=object)>"
      ]
     },
     "execution_count": 42,
     "metadata": {},
     "output_type": "execute_result"
    }
   ],
   "source": [
    "next_token, done, state = decoder.get_initial_state(ex_context)\n",
    "tokens=[]\n",
    "\n",
    "for n in range(10):\n",
    "    next_token, done, state = decoder.get_next_token(ex_context, next_token, done, state)\n",
    "    tokens.append(next_token)\n",
    "\n",
    "tokens = tf.concat(tokens, axis=-1)\n",
    "result=decoder.tokens_to_text(tokens)\n",
    "result[:3]"
   ]
  },
  {
   "cell_type": "code",
   "execution_count": 43,
   "id": "ebb6bbbe-e5e6-4593-a8e8-050eb78a0be1",
   "metadata": {},
   "outputs": [],
   "source": [
    "class Translator(tf.keras.Model):\n",
    "    def __init__(self, units, context_text_processor, target_text_processor):\n",
    "        super().__init__()\n",
    "        self.encoder = Encoder(context_text_processor, units)\n",
    "        self.decoder = Decoder(target_text_processor,units)\n",
    "    def call(self, inputs):\n",
    "        context,x = inputs\n",
    "        context = self.encoder(context)\n",
    "        logits = self.decoder(context, x)\n",
    "        return logits"
   ]
  },
  {
   "cell_type": "code",
   "execution_count": 45,
   "id": "70e821c2-68ed-472b-9a35-58e2098204ab",
   "metadata": {},
   "outputs": [],
   "source": [
    "model = Translator(UNITS, context_text_processor, target_text_processor)\n",
    "logits = model((ex_context_tok, ex_tar_in))"
   ]
  },
  {
   "cell_type": "code",
   "execution_count": 46,
   "id": "4b5afe48-483a-405b-aded-af0329817564",
   "metadata": {},
   "outputs": [
    {
     "data": {
      "text/plain": [
       "TensorShape([64, 18, 5000])"
      ]
     },
     "execution_count": 46,
     "metadata": {},
     "output_type": "execute_result"
    }
   ],
   "source": [
    "logits.shape"
   ]
  },
  {
   "cell_type": "code",
   "execution_count": 53,
   "id": "2f58fd63-c78a-4acd-941a-ec071771abd6",
   "metadata": {},
   "outputs": [],
   "source": [
    "def masked_loss(y_true, y_pred):\n",
    "    loss_fn = tf.keras.losses.SparseCategoricalCrossentropy(from_logits=True, reduction='none')\n",
    "    loss = loss_fn(y_true, y_pred)\n",
    "    mask = tf.cast(y_true != 0, loss.dtype)\n",
    "    loss *= mask\n",
    "    return tf.reduce_sum(loss)/tf.reduce_sum(mask)"
   ]
  },
  {
   "cell_type": "code",
   "execution_count": 57,
   "id": "8429bb71-c5a7-4879-bc04-dec038db0051",
   "metadata": {},
   "outputs": [],
   "source": [
    "def masked_acc(y_true, y_pred):\n",
    "    y_pred = tf.argmax(y_pred, axis=-1)\n",
    "    y_pred = tf.cast(y_pred, y_true.dtype)\n",
    "    match = tf.cast(y_pred == y_true, tf.float32)\n",
    "    mask = tf.cast(y_true!=0, tf.float32)\n",
    "    return tf.reduce_sum(match)/tf.reduce_sum(mask)"
   ]
  },
  {
   "cell_type": "code",
   "execution_count": 58,
   "id": "4bcfd683-ef9a-4d0a-b050-27a24c037ab9",
   "metadata": {},
   "outputs": [],
   "source": [
    "model.compile(optimizer='adam', loss=masked_loss, metrics=[masked_acc, masked_loss])"
   ]
  },
  {
   "cell_type": "code",
   "execution_count": 59,
   "id": "38abbfbe-9b84-48a3-86b3-27627697abcf",
   "metadata": {},
   "outputs": [
    {
     "name": "stdout",
     "output_type": "stream",
     "text": [
      "20/20 [==============================] - 12s 158ms/step - loss: 8.5316 - masked_acc: 1.8947e-04 - masked_loss: 8.5316\n"
     ]
    },
    {
     "data": {
      "text/plain": [
       "{'loss': 8.531594276428223,\n",
       " 'masked_acc': 0.00018946568889077753,\n",
       " 'masked_loss': 8.531578063964844}"
      ]
     },
     "execution_count": 59,
     "metadata": {},
     "output_type": "execute_result"
    }
   ],
   "source": [
    "model.evaluate(val_ds, steps=20, return_dict=True)"
   ]
  },
  {
   "cell_type": "code",
   "execution_count": 60,
   "id": "053cb0e4-105c-44fc-9434-273dcfcb7f34",
   "metadata": {},
   "outputs": [
    {
     "name": "stdout",
     "output_type": "stream",
     "text": [
      "Epoch 1/100\n",
      "100/100 [==============================] - 53s 393ms/step - loss: 5.0252 - masked_acc: 0.2648 - masked_loss: 5.0331 - val_loss: 4.1160 - val_masked_acc: 0.3517 - val_masked_loss: 4.1174\n",
      "Epoch 2/100\n",
      "100/100 [==============================] - 38s 385ms/step - loss: 3.6745 - masked_acc: 0.4048 - masked_loss: 3.6735 - val_loss: 3.3216 - val_masked_acc: 0.4592 - val_masked_loss: 3.3223\n",
      "Epoch 3/100\n",
      "100/100 [==============================] - 39s 387ms/step - loss: 3.0877 - masked_acc: 0.4852 - masked_loss: 3.0893 - val_loss: 2.7883 - val_masked_acc: 0.5240 - val_masked_loss: 2.7901\n",
      "Epoch 4/100\n",
      "100/100 [==============================] - 40s 402ms/step - loss: 2.6733 - masked_acc: 0.5450 - masked_loss: 2.6762 - val_loss: 2.4885 - val_masked_acc: 0.5728 - val_masked_loss: 2.4913\n",
      "Epoch 5/100\n",
      "100/100 [==============================] - 40s 397ms/step - loss: 2.3858 - masked_acc: 0.5853 - masked_loss: 2.3871 - val_loss: 2.2329 - val_masked_acc: 0.6039 - val_masked_loss: 2.2376\n",
      "Epoch 6/100\n",
      "100/100 [==============================] - 39s 388ms/step - loss: 2.1985 - masked_acc: 0.6132 - masked_loss: 2.2010 - val_loss: 2.0333 - val_masked_acc: 0.6253 - val_masked_loss: 2.0376\n",
      "Epoch 7/100\n",
      "100/100 [==============================] - 39s 386ms/step - loss: 1.9987 - masked_acc: 0.6412 - masked_loss: 2.0004 - val_loss: 1.8301 - val_masked_acc: 0.6638 - val_masked_loss: 1.8306\n",
      "Epoch 8/100\n",
      "100/100 [==============================] - 38s 381ms/step - loss: 1.8687 - masked_acc: 0.6575 - masked_loss: 1.8712 - val_loss: 1.7821 - val_masked_acc: 0.6652 - val_masked_loss: 1.7836\n",
      "Epoch 9/100\n",
      "100/100 [==============================] - 39s 391ms/step - loss: 1.7724 - masked_acc: 0.6729 - masked_loss: 1.7748 - val_loss: 1.7056 - val_masked_acc: 0.6801 - val_masked_loss: 1.7069\n",
      "Epoch 10/100\n",
      "100/100 [==============================] - 39s 389ms/step - loss: 1.6574 - masked_acc: 0.6863 - masked_loss: 1.6584 - val_loss: 1.6172 - val_masked_acc: 0.6905 - val_masked_loss: 1.6186\n",
      "Epoch 11/100\n",
      "100/100 [==============================] - 39s 392ms/step - loss: 1.6038 - masked_acc: 0.6947 - masked_loss: 1.6062 - val_loss: 1.5839 - val_masked_acc: 0.6964 - val_masked_loss: 1.5851\n",
      "Epoch 12/100\n",
      "100/100 [==============================] - 40s 399ms/step - loss: 1.5904 - masked_acc: 0.6943 - masked_loss: 1.5933 - val_loss: 1.5172 - val_masked_acc: 0.7007 - val_masked_loss: 1.5198\n",
      "Epoch 13/100\n",
      "100/100 [==============================] - 40s 400ms/step - loss: 1.5322 - masked_acc: 0.7041 - masked_loss: 1.5347 - val_loss: 1.4868 - val_masked_acc: 0.7098 - val_masked_loss: 1.4894\n",
      "Epoch 14/100\n",
      "100/100 [==============================] - 40s 402ms/step - loss: 1.4868 - masked_acc: 0.7116 - masked_loss: 1.4897 - val_loss: 1.3899 - val_masked_acc: 0.7251 - val_masked_loss: 1.3920\n",
      "Epoch 15/100\n",
      " 85/100 [========================>.....] - ETA: 5s - loss: 1.4132 - masked_acc: 0.7222 - masked_loss: 1.4143WARNING:tensorflow:Your input ran out of data; interrupting training. Make sure that your dataset or generator can generate at least `steps_per_epoch * epochs` batches (in this case, 10000 batches). You may need to use the repeat() function when building your dataset.\n",
      "100/100 [==============================] - 33s 334ms/step - loss: 1.4132 - masked_acc: 0.7222 - masked_loss: 1.4143 - val_loss: 1.3815 - val_masked_acc: 0.7232 - val_masked_loss: 1.3843\n"
     ]
    }
   ],
   "source": [
    "history = model.fit(train_ds, epochs=100, steps_per_epoch=100,validation_data=val_ds, validation_steps=20,callbacks=[\n",
    "        tf.keras.callbacks.EarlyStopping(patience=3)])"
   ]
  },
  {
   "cell_type": "code",
   "execution_count": null,
   "id": "f1ebebdd-d83a-49f6-9e22-fe7ba7032f16",
   "metadata": {},
   "outputs": [],
   "source": []
  }
 ],
 "metadata": {
  "kernelspec": {
   "display_name": "Python 3 (ipykernel)",
   "language": "python",
   "name": "python3"
  },
  "language_info": {
   "codemirror_mode": {
    "name": "ipython",
    "version": 3
   },
   "file_extension": ".py",
   "mimetype": "text/x-python",
   "name": "python",
   "nbconvert_exporter": "python",
   "pygments_lexer": "ipython3",
   "version": "3.11.8"
  }
 },
 "nbformat": 4,
 "nbformat_minor": 5
}
