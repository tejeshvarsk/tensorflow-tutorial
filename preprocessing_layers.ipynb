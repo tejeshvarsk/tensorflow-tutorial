{
 "cells": [
  {
   "cell_type": "code",
   "execution_count": 1,
   "id": "94d84037-2ec5-4fd7-aed4-1616ab1768ca",
   "metadata": {},
   "outputs": [],
   "source": [
    "import numpy as np\n",
    "import tensorflow as tf\n",
    "import keras\n",
    "from keras import layers"
   ]
  },
  {
   "cell_type": "code",
   "execution_count": 2,
   "id": "a3555057-2aa0-42cc-a521-533c19a09e0a",
   "metadata": {},
   "outputs": [],
   "source": [
    "data = np.array(\n",
    "    [\n",
    "        [0.1, 0.2, 0.3],\n",
    "        [0.8, 0.9, 1.0],\n",
    "        [1.5, 1.6, 1.7],\n",
    "    ]\n",
    ")"
   ]
  },
  {
   "cell_type": "code",
   "execution_count": 3,
   "id": "b765d644-4779-480c-8b00-d44524a4178d",
   "metadata": {},
   "outputs": [],
   "source": [
    "layer = layers.Normalization()\n",
    "layer.adapt(data)\n",
    "normalized_data = layer(data)"
   ]
  },
  {
   "cell_type": "code",
   "execution_count": 4,
   "id": "3762af2a-bc82-40e1-b9f8-215096655d2c",
   "metadata": {},
   "outputs": [
    {
     "data": {
      "text/plain": [
       "<tf.Tensor: shape=(3, 3), dtype=float32, numpy=\n",
       "array([[-1.2247449e+00, -1.2247449e+00, -1.2247448e+00],\n",
       "       [ 0.0000000e+00, -1.0428640e-07,  0.0000000e+00],\n",
       "       [ 1.2247449e+00,  1.2247448e+00,  1.2247449e+00]], dtype=float32)>"
      ]
     },
     "execution_count": 4,
     "metadata": {},
     "output_type": "execute_result"
    }
   ],
   "source": [
    "normalized_data"
   ]
  },
  {
   "cell_type": "code",
   "execution_count": 5,
   "id": "68affb94-c079-421d-8012-3bfcdf1dec75",
   "metadata": {},
   "outputs": [
    {
     "data": {
      "text/plain": [
       "-1.3245477e-08"
      ]
     },
     "execution_count": 5,
     "metadata": {},
     "output_type": "execute_result"
    }
   ],
   "source": [
    "normalized_data.numpy().mean()"
   ]
  },
  {
   "cell_type": "code",
   "execution_count": 6,
   "id": "7ddc7f11-bce6-4964-9c2c-79d32ece92a6",
   "metadata": {},
   "outputs": [
    {
     "data": {
      "text/plain": [
       "1.0"
      ]
     },
     "execution_count": 6,
     "metadata": {},
     "output_type": "execute_result"
    }
   ],
   "source": [
    "normalized_data.numpy().std()"
   ]
  },
  {
   "cell_type": "code",
   "execution_count": 7,
   "id": "0715744c-3ec7-417a-8267-ed402abc749a",
   "metadata": {},
   "outputs": [],
   "source": [
    "data = [\n",
    "    \"ξεῖν᾽, ἦ τοι μὲν ὄνειροι ἀμήχανοι ἀκριτόμυθοι\",\n",
    "    \"γίγνοντ᾽, οὐδέ τι πάντα τελείεται ἀνθρώποισι.\",\n",
    "    \"δοιαὶ γάρ τε πύλαι ἀμενηνῶν εἰσὶν ὀνείρων:\",\n",
    "    \"αἱ μὲν γὰρ κεράεσσι τετεύχαται, αἱ δ᾽ ἐλέφαντι:\",\n",
    "    \"τῶν οἳ μέν κ᾽ ἔλθωσι διὰ πριστοῦ ἐλέφαντος,\",\n",
    "    \"οἵ ῥ᾽ ἐλεφαίρονται, ἔπε᾽ ἀκράαντα φέροντες:\",\n",
    "    \"οἱ δὲ διὰ ξεστῶν κεράων ἔλθωσι θύραζε,\",\n",
    "    \"οἵ ῥ᾽ ἔτυμα κραίνουσι, βροτῶν ὅτε κέν τις ἴδηται.\",\n",
    "]"
   ]
  },
  {
   "cell_type": "code",
   "execution_count": 8,
   "id": "4a5a665b-e991-403d-9802-cb702356e671",
   "metadata": {},
   "outputs": [
    {
     "data": {
      "text/plain": [
       "<tf.Tensor: shape=(8, 9), dtype=int64, numpy=\n",
       "array([[37, 12, 25,  5,  9, 20, 21,  0,  0],\n",
       "       [51, 34, 27, 33, 29, 18,  0,  0,  0],\n",
       "       [49, 52, 30, 31, 19, 46, 10,  0,  0],\n",
       "       [ 7,  5, 50, 43, 28,  7, 47, 17,  0],\n",
       "       [24, 35, 39, 40,  3,  6, 32, 16,  0],\n",
       "       [ 4,  2, 15, 14, 22, 23,  0,  0,  0],\n",
       "       [36, 48,  6, 38, 42,  3, 45,  0,  0],\n",
       "       [ 4,  2, 13, 41, 53,  8, 44, 26, 11]])>"
      ]
     },
     "execution_count": 8,
     "metadata": {},
     "output_type": "execute_result"
    }
   ],
   "source": [
    "layer = layers.TextVectorization()\n",
    "layer.adapt(data)\n",
    "vectorized_text = layer(data)\n",
    "vectorized_text"
   ]
  },
  {
   "cell_type": "code",
   "execution_count": 9,
   "id": "0e46c560-2e10-42e9-8060-369ce4bf5bac",
   "metadata": {},
   "outputs": [
    {
     "data": {
      "text/plain": [
       "<tf.Tensor: shape=(2, 3), dtype=int64, numpy=\n",
       "array([[1, 3, 2],\n",
       "       [4, 0, 1]])>"
      ]
     },
     "execution_count": 9,
     "metadata": {},
     "output_type": "execute_result"
    }
   ],
   "source": [
    "vocab = ['a','b','c','d']\n",
    "data = [['a','c','b'],['d','z','a']]\n",
    "layer = layers.StringLookup(vocabulary=vocab)\n",
    "vectorized_data=layer(data)\n",
    "vectorized_data"
   ]
  },
  {
   "cell_type": "code",
   "execution_count": null,
   "id": "0187f50b-4cf5-4a28-b6bd-c57b161d8864",
   "metadata": {},
   "outputs": [],
   "source": []
  }
 ],
 "metadata": {
  "kernelspec": {
   "display_name": "tf_env",
   "language": "python",
   "name": "tf_env"
  },
  "language_info": {
   "codemirror_mode": {
    "name": "ipython",
    "version": 3
   },
   "file_extension": ".py",
   "mimetype": "text/x-python",
   "name": "python",
   "nbconvert_exporter": "python",
   "pygments_lexer": "ipython3",
   "version": "3.10.13"
  }
 },
 "nbformat": 4,
 "nbformat_minor": 5
}
