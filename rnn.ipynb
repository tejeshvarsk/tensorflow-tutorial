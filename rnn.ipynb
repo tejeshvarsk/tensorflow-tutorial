{
 "cells": [
  {
   "cell_type": "code",
   "execution_count": 1,
   "id": "46640601-f39b-42a5-9898-b94e5d341fee",
   "metadata": {},
   "outputs": [],
   "source": [
    "import tensorflow as tf\n",
    "import keras\n",
    "from keras import layers\n",
    "import numpy as np"
   ]
  },
  {
   "cell_type": "code",
   "execution_count": 8,
   "id": "42490972-8af7-454b-9764-ed480fe52962",
   "metadata": {},
   "outputs": [],
   "source": [
    "model = keras.models.Sequential()\n",
    "model.add(layers.LSTM(128, input_shape =(100, 64)))"
   ]
  },
  {
   "cell_type": "code",
   "execution_count": 9,
   "id": "3d67e445-c8e0-4234-b6fc-cbbcd5b660c4",
   "metadata": {},
   "outputs": [
    {
     "name": "stdout",
     "output_type": "stream",
     "text": [
      "Model: \"sequential_1\"\n",
      "_________________________________________________________________\n",
      " Layer (type)                Output Shape              Param #   \n",
      "=================================================================\n",
      " lstm_1 (LSTM)               (None, 128)               98816     \n",
      "                                                                 \n",
      "=================================================================\n",
      "Total params: 98816 (386.00 KB)\n",
      "Trainable params: 98816 (386.00 KB)\n",
      "Non-trainable params: 0 (0.00 Byte)\n",
      "_________________________________________________________________\n"
     ]
    }
   ],
   "source": [
    "model.summary()"
   ]
  },
  {
   "cell_type": "code",
   "execution_count": 10,
   "id": "260f3798-d92d-49be-a798-2eb5de70b317",
   "metadata": {},
   "outputs": [],
   "source": [
    "input = np.random.random((32,100,64))"
   ]
  },
  {
   "cell_type": "code",
   "execution_count": 11,
   "id": "14f26b4b-ed68-488c-a18d-e158d27312f1",
   "metadata": {},
   "outputs": [
    {
     "data": {
      "text/plain": [
       "<tf.Tensor: shape=(32, 128), dtype=float32, numpy=\n",
       "array([[ 0.06830255,  0.33426037, -0.2280668 , ..., -0.11803098,\n",
       "         0.05361152,  0.23165298],\n",
       "       [ 0.08524558,  0.2685929 , -0.14083879, ..., -0.00583468,\n",
       "         0.12351918,  0.29270893],\n",
       "       [-0.09162324,  0.30375394, -0.24457046, ..., -0.11119272,\n",
       "         0.08513726,  0.20812082],\n",
       "       ...,\n",
       "       [ 0.01620254,  0.25030524, -0.22140098, ..., -0.03011527,\n",
       "         0.1208662 ,  0.14071275],\n",
       "       [-0.00608991,  0.28867385, -0.18187392, ..., -0.12877892,\n",
       "         0.03162476,  0.09065992],\n",
       "       [ 0.08466666,  0.21175064, -0.17468305, ..., -0.14795563,\n",
       "         0.23094252,  0.20041151]], dtype=float32)>"
      ]
     },
     "execution_count": 11,
     "metadata": {},
     "output_type": "execute_result"
    }
   ],
   "source": [
    "model(input)"
   ]
  },
  {
   "cell_type": "code",
   "execution_count": 12,
   "id": "1d5b961d-d50d-49c8-b605-b433981a4704",
   "metadata": {},
   "outputs": [
    {
     "data": {
      "text/plain": [
       "[<tf.Variable 'lstm_1/lstm_cell/kernel:0' shape=(64, 512) dtype=float32, numpy=\n",
       " array([[ 0.0501997 , -0.08657222,  0.03320719, ..., -0.0862118 ,\n",
       "         -0.04107983,  0.02334872],\n",
       "        [-0.05951494, -0.03448389, -0.03241017, ...,  0.05525893,\n",
       "         -0.08268989, -0.07983506],\n",
       "        [ 0.06962168, -0.01874001, -0.03062432, ...,  0.04539706,\n",
       "          0.02506983,  0.06950589],\n",
       "        ...,\n",
       "        [ 0.02382539,  0.01249871, -0.00884084, ...,  0.01113477,\n",
       "          0.08461466, -0.05992257],\n",
       "        [-0.04340509,  0.01731791, -0.08755868, ..., -0.0470756 ,\n",
       "         -0.01319574,  0.09569493],\n",
       "        [ 0.08750576,  0.02859159,  0.06332532, ..., -0.04731227,\n",
       "          0.06169492, -0.03342612]], dtype=float32)>,\n",
       " <tf.Variable 'lstm_1/lstm_cell/recurrent_kernel:0' shape=(128, 512) dtype=float32, numpy=\n",
       " array([[ 0.03429818,  0.06551444,  0.01752037, ...,  0.01673148,\n",
       "         -0.02052634, -0.00108883],\n",
       "        [ 0.05924174, -0.01895237,  0.01748545, ...,  0.03938874,\n",
       "         -0.0046371 , -0.03809261],\n",
       "        [ 0.01044494,  0.00174818, -0.02639699, ..., -0.08156975,\n",
       "         -0.03522145,  0.02982074],\n",
       "        ...,\n",
       "        [-0.03889328,  0.0210046 , -0.05396881, ..., -0.03125053,\n",
       "          0.04460426,  0.06105306],\n",
       "        [-0.10417014,  0.02775248, -0.01909968, ..., -0.00154069,\n",
       "          0.05453623, -0.03362476],\n",
       "        [-0.05367337, -0.00778025, -0.00637507, ..., -0.02676509,\n",
       "          0.08169089, -0.01084381]], dtype=float32)>,\n",
       " <tf.Variable 'lstm_1/lstm_cell/bias:0' shape=(512,) dtype=float32, numpy=\n",
       " array([0., 0., 0., 0., 0., 0., 0., 0., 0., 0., 0., 0., 0., 0., 0., 0., 0.,\n",
       "        0., 0., 0., 0., 0., 0., 0., 0., 0., 0., 0., 0., 0., 0., 0., 0., 0.,\n",
       "        0., 0., 0., 0., 0., 0., 0., 0., 0., 0., 0., 0., 0., 0., 0., 0., 0.,\n",
       "        0., 0., 0., 0., 0., 0., 0., 0., 0., 0., 0., 0., 0., 0., 0., 0., 0.,\n",
       "        0., 0., 0., 0., 0., 0., 0., 0., 0., 0., 0., 0., 0., 0., 0., 0., 0.,\n",
       "        0., 0., 0., 0., 0., 0., 0., 0., 0., 0., 0., 0., 0., 0., 0., 0., 0.,\n",
       "        0., 0., 0., 0., 0., 0., 0., 0., 0., 0., 0., 0., 0., 0., 0., 0., 0.,\n",
       "        0., 0., 0., 0., 0., 0., 0., 0., 0., 1., 1., 1., 1., 1., 1., 1., 1.,\n",
       "        1., 1., 1., 1., 1., 1., 1., 1., 1., 1., 1., 1., 1., 1., 1., 1., 1.,\n",
       "        1., 1., 1., 1., 1., 1., 1., 1., 1., 1., 1., 1., 1., 1., 1., 1., 1.,\n",
       "        1., 1., 1., 1., 1., 1., 1., 1., 1., 1., 1., 1., 1., 1., 1., 1., 1.,\n",
       "        1., 1., 1., 1., 1., 1., 1., 1., 1., 1., 1., 1., 1., 1., 1., 1., 1.,\n",
       "        1., 1., 1., 1., 1., 1., 1., 1., 1., 1., 1., 1., 1., 1., 1., 1., 1.,\n",
       "        1., 1., 1., 1., 1., 1., 1., 1., 1., 1., 1., 1., 1., 1., 1., 1., 1.,\n",
       "        1., 1., 1., 1., 1., 1., 1., 1., 1., 1., 1., 1., 1., 1., 1., 1., 1.,\n",
       "        1., 0., 0., 0., 0., 0., 0., 0., 0., 0., 0., 0., 0., 0., 0., 0., 0.,\n",
       "        0., 0., 0., 0., 0., 0., 0., 0., 0., 0., 0., 0., 0., 0., 0., 0., 0.,\n",
       "        0., 0., 0., 0., 0., 0., 0., 0., 0., 0., 0., 0., 0., 0., 0., 0., 0.,\n",
       "        0., 0., 0., 0., 0., 0., 0., 0., 0., 0., 0., 0., 0., 0., 0., 0., 0.,\n",
       "        0., 0., 0., 0., 0., 0., 0., 0., 0., 0., 0., 0., 0., 0., 0., 0., 0.,\n",
       "        0., 0., 0., 0., 0., 0., 0., 0., 0., 0., 0., 0., 0., 0., 0., 0., 0.,\n",
       "        0., 0., 0., 0., 0., 0., 0., 0., 0., 0., 0., 0., 0., 0., 0., 0., 0.,\n",
       "        0., 0., 0., 0., 0., 0., 0., 0., 0., 0., 0., 0., 0., 0., 0., 0., 0.,\n",
       "        0., 0., 0., 0., 0., 0., 0., 0., 0., 0., 0., 0., 0., 0., 0., 0., 0.,\n",
       "        0., 0., 0., 0., 0., 0., 0., 0., 0., 0., 0., 0., 0., 0., 0., 0., 0.,\n",
       "        0., 0., 0., 0., 0., 0., 0., 0., 0., 0., 0., 0., 0., 0., 0., 0., 0.,\n",
       "        0., 0., 0., 0., 0., 0., 0., 0., 0., 0., 0., 0., 0., 0., 0., 0., 0.,\n",
       "        0., 0., 0., 0., 0., 0., 0., 0., 0., 0., 0., 0., 0., 0., 0., 0., 0.,\n",
       "        0., 0., 0., 0., 0., 0., 0., 0., 0., 0., 0., 0., 0., 0., 0., 0., 0.,\n",
       "        0., 0., 0., 0., 0., 0., 0., 0., 0., 0., 0., 0., 0., 0., 0., 0., 0.,\n",
       "        0., 0.], dtype=float32)>]"
      ]
     },
     "execution_count": 12,
     "metadata": {},
     "output_type": "execute_result"
    }
   ],
   "source": [
    "model.variables"
   ]
  },
  {
   "cell_type": "code",
   "execution_count": 14,
   "id": "f8f7125e-4d95-4203-a18c-57977d294fc1",
   "metadata": {},
   "outputs": [
    {
     "name": "stdout",
     "output_type": "stream",
     "text": [
      "Model: \"sequential_3\"\n",
      "_________________________________________________________________\n",
      " Layer (type)                Output Shape              Param #   \n",
      "=================================================================\n",
      " simple_rnn_1 (SimpleRNN)    (None, 128)               24704     \n",
      "                                                                 \n",
      "=================================================================\n",
      "Total params: 24704 (96.50 KB)\n",
      "Trainable params: 24704 (96.50 KB)\n",
      "Non-trainable params: 0 (0.00 Byte)\n",
      "_________________________________________________________________\n"
     ]
    }
   ],
   "source": [
    "model = keras.Sequential()\n",
    "model.add(layers.SimpleRNN(128, input_shape=(100,64) ))\n",
    "model.summary()"
   ]
  },
  {
   "cell_type": "code",
   "execution_count": 15,
   "id": "3027c794-aa68-4fe4-9a6a-9d0611665e29",
   "metadata": {},
   "outputs": [
    {
     "data": {
      "text/plain": [
       "<tf.Tensor: shape=(32, 128), dtype=float32, numpy=\n",
       "array([[-0.13634752, -0.1723228 ,  0.11742685, ...,  0.91440445,\n",
       "        -0.19778453,  0.67821723],\n",
       "       [-0.32463434, -0.09139939, -0.6171858 , ...,  0.8733629 ,\n",
       "         0.39810452,  0.77676964],\n",
       "       [-0.66015965, -0.3971889 , -0.595516  , ...,  0.7218538 ,\n",
       "         0.21412948,  0.42729637],\n",
       "       ...,\n",
       "       [-0.5982969 , -0.55361927,  0.17074777, ...,  0.84086114,\n",
       "        -0.15404497,  0.89675176],\n",
       "       [-0.42708582, -0.63677263, -0.0122096 , ...,  0.8617068 ,\n",
       "        -0.32307187,  0.5016497 ],\n",
       "       [-0.5306407 , -0.67347354, -0.3203308 , ...,  0.8917179 ,\n",
       "        -0.37515047,  0.8447382 ]], dtype=float32)>"
      ]
     },
     "execution_count": 15,
     "metadata": {},
     "output_type": "execute_result"
    }
   ],
   "source": [
    "model(input)"
   ]
  },
  {
   "cell_type": "code",
   "execution_count": 20,
   "id": "37b35359-3966-4073-bef8-449215b3cce4",
   "metadata": {},
   "outputs": [
    {
     "name": "stdout",
     "output_type": "stream",
     "text": [
      "Model: \"sequential_5\"\n",
      "_________________________________________________________________\n",
      " Layer (type)                Output Shape              Param #   \n",
      "=================================================================\n",
      " embedding_1 (Embedding)     (None, None, 64)          640000    \n",
      "                                                                 \n",
      " lstm_3 (LSTM)               (None, 128)               98816     \n",
      "                                                                 \n",
      " dense_1 (Dense)             (None, 10)                1290      \n",
      "                                                                 \n",
      "=================================================================\n",
      "Total params: 740106 (2.82 MB)\n",
      "Trainable params: 740106 (2.82 MB)\n",
      "Non-trainable params: 0 (0.00 Byte)\n",
      "_________________________________________________________________\n"
     ]
    }
   ],
   "source": [
    "vocab_size=10000\n",
    "num_features=64\n",
    "model = keras.Sequential()\n",
    "model.add(layers.Embedding(input_dim=vocab_size, output_dim=num_features))\n",
    "model.add(layers.LSTM(128))\n",
    "model.add(layers.Dense(10, activation='softmax'))\n",
    "model.summary()"
   ]
  },
  {
   "cell_type": "code",
   "execution_count": 32,
   "id": "c9b1fa29-18c6-48d1-aa95-a93d3b55f913",
   "metadata": {},
   "outputs": [
    {
     "name": "stderr",
     "output_type": "stream",
     "text": [
      "WARNING:absl:At this time, the v2.11+ optimizer `tf.keras.optimizers.Adam` runs slowly on M1/M2 Macs, please use the legacy Keras optimizer instead, located at `tf.keras.optimizers.legacy.Adam`.\n"
     ]
    }
   ],
   "source": [
    "input = np.random.randint(0,vocab_size,size=(32,100))\n",
    "target = np.random.randint(0, 10, size=(32,1))\n",
    "model.compile(loss=keras.losses.SparseCategoricalCrossentropy(from_logits=True),\n",
    "              optimizer=keras.optimizers.Adam(),\n",
    "              metrics=[keras.metrics.SparseCategoricalAccuracy()])"
   ]
  },
  {
   "cell_type": "code",
   "execution_count": 33,
   "id": "22206faf-5374-48d6-be33-b3ab288c40f4",
   "metadata": {},
   "outputs": [
    {
     "name": "stdout",
     "output_type": "stream",
     "text": [
      "Epoch 1/10\n"
     ]
    },
    {
     "name": "stderr",
     "output_type": "stream",
     "text": [
      "/opt/homebrew/Caskroom/miniforge/base/envs/tf_env/lib/python3.10/site-packages/keras/src/backend.py:5727: UserWarning: \"`sparse_categorical_crossentropy` received `from_logits=True`, but the `output` argument was produced by a Softmax activation and thus does not represent logits. Was this intended?\n",
      "  output, from_logits = _get_logits(\n"
     ]
    },
    {
     "name": "stdout",
     "output_type": "stream",
     "text": [
      "4/4 [==============================] - 1s 26ms/step - loss: 2.3432 - sparse_categorical_accuracy: 0.1562\n",
      "Epoch 2/10\n",
      "4/4 [==============================] - 0s 26ms/step - loss: 2.2030 - sparse_categorical_accuracy: 0.1562\n",
      "Epoch 3/10\n",
      "4/4 [==============================] - 0s 25ms/step - loss: 2.0677 - sparse_categorical_accuracy: 0.2500\n",
      "Epoch 4/10\n",
      "4/4 [==============================] - 0s 25ms/step - loss: 1.8168 - sparse_categorical_accuracy: 0.2812\n",
      "Epoch 5/10\n",
      "4/4 [==============================] - 0s 26ms/step - loss: 1.6186 - sparse_categorical_accuracy: 0.3750\n",
      "Epoch 6/10\n",
      "4/4 [==============================] - 0s 25ms/step - loss: 1.4319 - sparse_categorical_accuracy: 0.5312\n",
      "Epoch 7/10\n",
      "4/4 [==============================] - 0s 26ms/step - loss: 1.2252 - sparse_categorical_accuracy: 0.5625\n",
      "Epoch 8/10\n",
      "4/4 [==============================] - 0s 25ms/step - loss: 1.2084 - sparse_categorical_accuracy: 0.5938\n",
      "Epoch 9/10\n",
      "4/4 [==============================] - 0s 26ms/step - loss: 1.1292 - sparse_categorical_accuracy: 0.6562\n",
      "Epoch 10/10\n",
      "4/4 [==============================] - 0s 26ms/step - loss: 1.0093 - sparse_categorical_accuracy: 0.6875\n"
     ]
    }
   ],
   "source": [
    "history = model.fit(input, target, epochs=10, batch_size=8)"
   ]
  },
  {
   "cell_type": "code",
   "execution_count": 39,
   "id": "ead53a77-f6cf-4481-896b-1103e5be5667",
   "metadata": {},
   "outputs": [
    {
     "name": "stdout",
     "output_type": "stream",
     "text": [
      "1/1 [==============================] - 0s 21ms/step\n"
     ]
    },
    {
     "data": {
      "text/plain": [
       "array([[0.426146  , 0.03018093, 0.02969218, 0.01009038, 0.10628848,\n",
       "        0.02841684, 0.0396408 , 0.03888062, 0.02584466, 0.26481918],\n",
       "       [0.00912099, 0.00826434, 0.02755952, 0.09088288, 0.01258691,\n",
       "        0.5829932 , 0.10902884, 0.00596579, 0.14499967, 0.0085978 ],\n",
       "       [0.00885594, 0.00828758, 0.02717856, 0.10124345, 0.01259414,\n",
       "        0.5653919 , 0.11125515, 0.00600195, 0.15069404, 0.00849725],\n",
       "       [0.0231333 , 0.0136863 , 0.05298903, 0.04505505, 0.02000601,\n",
       "        0.21251346, 0.43785143, 0.02199228, 0.15583849, 0.01693464],\n",
       "       [0.49868354, 0.02645679, 0.02146885, 0.00722842, 0.10556715,\n",
       "        0.01715779, 0.0254783 , 0.03576293, 0.01674952, 0.24544677]],\n",
       "      dtype=float32)"
      ]
     },
     "execution_count": 39,
     "metadata": {},
     "output_type": "execute_result"
    }
   ],
   "source": [
    "model.predict(input[:5])"
   ]
  },
  {
   "cell_type": "code",
   "execution_count": 40,
   "id": "19ffab08-cba5-46a6-96c8-3c1f9ddcc18e",
   "metadata": {},
   "outputs": [
    {
     "data": {
      "text/plain": [
       "array([[9],\n",
       "       [5],\n",
       "       [5],\n",
       "       [6],\n",
       "       [0]])"
      ]
     },
     "execution_count": 40,
     "metadata": {},
     "output_type": "execute_result"
    }
   ],
   "source": [
    "target[:5]"
   ]
  },
  {
   "cell_type": "code",
   "execution_count": 49,
   "id": "de805433-951f-4a1c-b086-2365b3900b48",
   "metadata": {},
   "outputs": [
    {
     "name": "stdout",
     "output_type": "stream",
     "text": [
      "Model: \"sequential_8\"\n",
      "_________________________________________________________________\n",
      " Layer (type)                Output Shape              Param #   \n",
      "=================================================================\n",
      " embedding_4 (Embedding)     (None, None, 64)          640000    \n",
      "                                                                 \n",
      " gru_2 (GRU)                 (None, None, 256)         247296    \n",
      "                                                                 \n",
      " simple_rnn_4 (SimpleRNN)    (None, 128)               49280     \n",
      "                                                                 \n",
      " dense_4 (Dense)             (None, 10)                1290      \n",
      "                                                                 \n",
      "=================================================================\n",
      "Total params: 937866 (3.58 MB)\n",
      "Trainable params: 937866 (3.58 MB)\n",
      "Non-trainable params: 0 (0.00 Byte)\n",
      "_________________________________________________________________\n"
     ]
    }
   ],
   "source": [
    "model = keras.Sequential()\n",
    "model.add(layers.Embedding(10000,64))\n",
    "model.add(layers.GRU(256, return_sequences=True,)) ##output shape - ( batch_size, time_steps, units)\n",
    "model.add(layers.SimpleRNN(128))\n",
    "model.add(layers.Dense(10, activation='softmax'))\n",
    "model.summary()"
   ]
  },
  {
   "cell_type": "code",
   "execution_count": 50,
   "id": "d2c4f751-23e8-4e91-a475-3449399c3839",
   "metadata": {},
   "outputs": [
    {
     "name": "stderr",
     "output_type": "stream",
     "text": [
      "WARNING:absl:At this time, the v2.11+ optimizer `tf.keras.optimizers.Adam` runs slowly on M1/M2 Macs, please use the legacy Keras optimizer instead, located at `tf.keras.optimizers.legacy.Adam`.\n"
     ]
    },
    {
     "name": "stdout",
     "output_type": "stream",
     "text": [
      "Epoch 1/10\n"
     ]
    },
    {
     "name": "stderr",
     "output_type": "stream",
     "text": [
      "/opt/homebrew/Caskroom/miniforge/base/envs/tf_env/lib/python3.10/site-packages/keras/src/backend.py:5727: UserWarning: \"`sparse_categorical_crossentropy` received `from_logits=True`, but the `output` argument was produced by a Softmax activation and thus does not represent logits. Was this intended?\n",
      "  output, from_logits = _get_logits(\n"
     ]
    },
    {
     "name": "stdout",
     "output_type": "stream",
     "text": [
      "1/1 [==============================] - 1s 743ms/step - loss: 2.3104 - sparse_categorical_accuracy: 0.1250\n",
      "Epoch 2/10\n",
      "1/1 [==============================] - 0s 109ms/step - loss: 2.0612 - sparse_categorical_accuracy: 0.6562\n",
      "Epoch 3/10\n",
      "1/1 [==============================] - 0s 108ms/step - loss: 1.8169 - sparse_categorical_accuracy: 0.9375\n",
      "Epoch 4/10\n",
      "1/1 [==============================] - 0s 111ms/step - loss: 1.5074 - sparse_categorical_accuracy: 1.0000\n",
      "Epoch 5/10\n",
      "1/1 [==============================] - 0s 114ms/step - loss: 1.3118 - sparse_categorical_accuracy: 1.0000\n",
      "Epoch 6/10\n",
      "1/1 [==============================] - 0s 113ms/step - loss: 1.1230 - sparse_categorical_accuracy: 1.0000\n",
      "Epoch 7/10\n",
      "1/1 [==============================] - 0s 115ms/step - loss: 0.9629 - sparse_categorical_accuracy: 1.0000\n",
      "Epoch 8/10\n",
      "1/1 [==============================] - 0s 109ms/step - loss: 0.8282 - sparse_categorical_accuracy: 1.0000\n",
      "Epoch 9/10\n",
      "1/1 [==============================] - 0s 109ms/step - loss: 0.7429 - sparse_categorical_accuracy: 1.0000\n",
      "Epoch 10/10\n",
      "1/1 [==============================] - 0s 111ms/step - loss: 0.6223 - sparse_categorical_accuracy: 1.0000\n"
     ]
    }
   ],
   "source": [
    "input = np.random.randint(0,vocab_size,size=(32,100))\n",
    "target = np.random.randint(0, 10, size=(32,1))\n",
    "model.compile(loss=keras.losses.SparseCategoricalCrossentropy(from_logits=True),\n",
    "              optimizer=keras.optimizers.Adam(),\n",
    "              metrics=[keras.metrics.SparseCategoricalAccuracy()])\n",
    "history=model.fit(input, target, epochs=10, batch_size=32)"
   ]
  },
  {
   "cell_type": "code",
   "execution_count": 51,
   "id": "4e8c75f4-e4d3-41f3-90e4-f4326d005248",
   "metadata": {},
   "outputs": [
    {
     "name": "stdout",
     "output_type": "stream",
     "text": [
      "1/1 [==============================] - 0s 318ms/step\n"
     ]
    },
    {
     "data": {
      "text/plain": [
       "array([[0.05811029, 0.06183634, 0.05293751, 0.03395062, 0.0623646 ,\n",
       "        0.03736534, 0.06058241, 0.07732039, 0.46648532, 0.08904713],\n",
       "       [0.02409323, 0.6253244 , 0.01253859, 0.04375581, 0.02790624,\n",
       "        0.09606948, 0.0613334 , 0.02158225, 0.03974992, 0.04764663],\n",
       "       [0.02646111, 0.09750102, 0.03680229, 0.04000811, 0.02829788,\n",
       "        0.61190736, 0.03430467, 0.06782592, 0.02366185, 0.03322979],\n",
       "       [0.4451268 , 0.03922073, 0.05827165, 0.14204898, 0.07834244,\n",
       "        0.03358084, 0.06313536, 0.02519507, 0.05843999, 0.05663809],\n",
       "       [0.08248253, 0.06670571, 0.0382889 , 0.55697   , 0.04349488,\n",
       "        0.04125578, 0.07215773, 0.01917469, 0.03093302, 0.04853668]],\n",
       "      dtype=float32)"
      ]
     },
     "execution_count": 51,
     "metadata": {},
     "output_type": "execute_result"
    }
   ],
   "source": [
    "model.predict(input[:5])"
   ]
  },
  {
   "cell_type": "code",
   "execution_count": 52,
   "id": "d3f9d921-9112-4b68-b4e7-d7e3b02aee8f",
   "metadata": {},
   "outputs": [
    {
     "data": {
      "text/plain": [
       "array([[8],\n",
       "       [1],\n",
       "       [5],\n",
       "       [0],\n",
       "       [3]])"
      ]
     },
     "execution_count": 52,
     "metadata": {},
     "output_type": "execute_result"
    }
   ],
   "source": [
    "target[:5]"
   ]
  },
  {
   "cell_type": "code",
   "execution_count": 65,
   "id": "64ed3fa2-d2d5-4d58-9a65-ec2b731bf274",
   "metadata": {},
   "outputs": [
    {
     "data": {
      "text/plain": [
       "[<keras.src.engine.node.Node at 0x16a4b7970>]"
      ]
     },
     "execution_count": 65,
     "metadata": {},
     "output_type": "execute_result"
    }
   ],
   "source": [
    "model.layers[1].outbound_nodes"
   ]
  },
  {
   "cell_type": "code",
   "execution_count": 67,
   "id": "25c8caa1-9489-44fa-b5c0-a44f00c277f9",
   "metadata": {},
   "outputs": [
    {
     "name": "stdout",
     "output_type": "stream",
     "text": [
      "Model: \"model\"\n",
      "__________________________________________________________________________________________________\n",
      " Layer (type)                Output Shape                 Param #   Connected to                  \n",
      "==================================================================================================\n",
      " input_2 (InputLayer)        [(None, None)]               0         []                            \n",
      "                                                                                                  \n",
      " input_3 (InputLayer)        [(None, None)]               0         []                            \n",
      "                                                                                                  \n",
      " embedding_6 (Embedding)     (None, None, 64)             64000     ['input_2[0][0]']             \n",
      "                                                                                                  \n",
      " embedding_7 (Embedding)     (None, None, 64)             128000    ['input_3[0][0]']             \n",
      "                                                                                                  \n",
      " lstm_5 (LSTM)               [(None, 64),                 33024     ['embedding_6[0][0]']         \n",
      "                              (None, 64),                                                         \n",
      "                              (None, 64)]                                                         \n",
      "                                                                                                  \n",
      " lstm_6 (LSTM)               (None, 64)                   33024     ['embedding_7[0][0]',         \n",
      "                                                                     'lstm_5[0][1]',              \n",
      "                                                                     'lstm_5[0][2]']              \n",
      "                                                                                                  \n",
      " dense_5 (Dense)             (None, 10)                   650       ['lstm_6[0][0]']              \n",
      "                                                                                                  \n",
      "==================================================================================================\n",
      "Total params: 258698 (1010.54 KB)\n",
      "Trainable params: 258698 (1010.54 KB)\n",
      "Non-trainable params: 0 (0.00 Byte)\n",
      "__________________________________________________________________________________________________\n"
     ]
    }
   ],
   "source": [
    "encoder_vocab=1000\n",
    "decoder_vocab=2000\n",
    "\n",
    "encoder_input = keras.Input(shape=(None,))\n",
    "encoder_embed = layers.Embedding(input_dim=encoder_vocab, output_dim=64)(encoder_input)\n",
    "output, state_h, state_c = layers.LSTM(64, return_state=True)(encoder_embed)\n",
    "encoder_state=[state_h, state_c]\n",
    "decoder_input = keras.Input(shape=(None,))\n",
    "decoder_embed = layers.Embedding(input_dim=decoder_vocab, output_dim=64)(decoder_input)\n",
    "decoder_output = layers.LSTM(64)(decoder_embed, initial_state=encoder_state)\n",
    "output = layers.Dense(10, activation='softmax')(decoder_output)\n",
    "model = keras.Model(inputs=[encoder_input, decoder_input], outputs=[output])\n",
    "model.summary()"
   ]
  },
  {
   "cell_type": "code",
   "execution_count": 69,
   "id": "a54139dc-1e81-4324-830c-8f649fdffb12",
   "metadata": {},
   "outputs": [
    {
     "name": "stderr",
     "output_type": "stream",
     "text": [
      "WARNING:absl:At this time, the v2.11+ optimizer `tf.keras.optimizers.Adam` runs slowly on M1/M2 Macs, please use the legacy Keras optimizer instead, located at `tf.keras.optimizers.legacy.Adam`.\n"
     ]
    },
    {
     "name": "stdout",
     "output_type": "stream",
     "text": [
      "Epoch 1/25\n",
      "1/1 [==============================] - 1s 901ms/step - loss: 2.3045 - sparse_categorical_accuracy: 0.0000e+00\n",
      "Epoch 2/25\n",
      "1/1 [==============================] - 0s 38ms/step - loss: 2.2917 - sparse_categorical_accuracy: 0.0625\n",
      "Epoch 3/25\n",
      "1/1 [==============================] - 0s 38ms/step - loss: 2.2790 - sparse_categorical_accuracy: 0.2812\n",
      "Epoch 4/25\n",
      "1/1 [==============================] - 0s 42ms/step - loss: 2.2663 - sparse_categorical_accuracy: 0.3125\n",
      "Epoch 5/25\n",
      "1/1 [==============================] - 0s 39ms/step - loss: 2.2530 - sparse_categorical_accuracy: 0.4062\n",
      "Epoch 6/25\n",
      "1/1 [==============================] - 0s 38ms/step - loss: 2.2389 - sparse_categorical_accuracy: 0.4062\n",
      "Epoch 7/25\n",
      "1/1 [==============================] - 0s 39ms/step - loss: 2.2237 - sparse_categorical_accuracy: 0.4062\n",
      "Epoch 8/25\n",
      "1/1 [==============================] - 0s 40ms/step - loss: 2.2067 - sparse_categorical_accuracy: 0.4375\n",
      "Epoch 9/25\n",
      "1/1 [==============================] - 0s 38ms/step - loss: 2.1875 - sparse_categorical_accuracy: 0.4375\n",
      "Epoch 10/25\n",
      "1/1 [==============================] - 0s 36ms/step - loss: 2.1650 - sparse_categorical_accuracy: 0.4688\n",
      "Epoch 11/25\n",
      "1/1 [==============================] - 0s 38ms/step - loss: 2.1380 - sparse_categorical_accuracy: 0.4375\n",
      "Epoch 12/25\n",
      "1/1 [==============================] - 0s 36ms/step - loss: 2.1043 - sparse_categorical_accuracy: 0.4062\n",
      "Epoch 13/25\n",
      "1/1 [==============================] - 0s 39ms/step - loss: 2.0605 - sparse_categorical_accuracy: 0.3750\n",
      "Epoch 14/25\n",
      "1/1 [==============================] - 0s 38ms/step - loss: 2.0040 - sparse_categorical_accuracy: 0.3438\n",
      "Epoch 15/25\n",
      "1/1 [==============================] - 0s 38ms/step - loss: 1.9607 - sparse_categorical_accuracy: 0.2812\n",
      "Epoch 16/25\n",
      "1/1 [==============================] - 0s 38ms/step - loss: 1.9241 - sparse_categorical_accuracy: 0.3125\n",
      "Epoch 17/25\n",
      "1/1 [==============================] - 0s 38ms/step - loss: 1.8536 - sparse_categorical_accuracy: 0.3125\n",
      "Epoch 18/25\n",
      "1/1 [==============================] - 0s 38ms/step - loss: 1.8039 - sparse_categorical_accuracy: 0.5000\n",
      "Epoch 19/25\n",
      "1/1 [==============================] - 0s 39ms/step - loss: 1.7567 - sparse_categorical_accuracy: 0.8438\n",
      "Epoch 20/25\n",
      "1/1 [==============================] - 0s 38ms/step - loss: 1.6921 - sparse_categorical_accuracy: 0.8750\n",
      "Epoch 21/25\n",
      "1/1 [==============================] - 0s 38ms/step - loss: 1.6131 - sparse_categorical_accuracy: 0.7812\n",
      "Epoch 22/25\n",
      "1/1 [==============================] - 0s 39ms/step - loss: 1.5664 - sparse_categorical_accuracy: 0.5938\n",
      "Epoch 23/25\n",
      "1/1 [==============================] - 0s 37ms/step - loss: 1.5051 - sparse_categorical_accuracy: 0.7812\n",
      "Epoch 24/25\n",
      "1/1 [==============================] - 0s 37ms/step - loss: 1.4480 - sparse_categorical_accuracy: 0.8750\n",
      "Epoch 25/25\n",
      "1/1 [==============================] - 0s 39ms/step - loss: 1.3974 - sparse_categorical_accuracy: 0.9375\n"
     ]
    }
   ],
   "source": [
    "encoder_input = np.random.randint(0,encoder_vocab,size=(32,100))\n",
    "decoder_input = np.random.randint(0,decoder_vocab,size=(32,100))\n",
    "target = np.random.randint(0, 10, size=(32,1))\n",
    "model.compile(loss=keras.losses.SparseCategoricalCrossentropy(from_logits=True),\n",
    "              optimizer=keras.optimizers.Adam(),\n",
    "              metrics=[keras.metrics.SparseCategoricalAccuracy()])\n",
    "history=model.fit((encoder_input, decoder_input), target, epochs=25, batch_size=32)"
   ]
  },
  {
   "cell_type": "code",
   "execution_count": 70,
   "id": "c5a877bb-cf68-49d9-b8ac-69badf1b4e7b",
   "metadata": {},
   "outputs": [
    {
     "name": "stdout",
     "output_type": "stream",
     "text": [
      "1/1 [==============================] - 0s 230ms/step\n"
     ]
    },
    {
     "data": {
      "text/plain": [
       "array([[0.09245473, 0.1453131 , 0.06451769, 0.09187844, 0.06408516,\n",
       "        0.05804849, 0.17533341, 0.12742579, 0.10640304, 0.07454009],\n",
       "       [0.1234583 , 0.43556708, 0.01215723, 0.02702597, 0.00242799,\n",
       "        0.00371533, 0.05956478, 0.01719108, 0.31107312, 0.00781913],\n",
       "       [0.0997817 , 0.13461304, 0.06324722, 0.10550001, 0.06195274,\n",
       "        0.0573851 , 0.17583175, 0.12173584, 0.10663573, 0.07331688],\n",
       "       [0.2938184 , 0.16216232, 0.01308621, 0.08232765, 0.00344548,\n",
       "        0.00539551, 0.06195698, 0.01107697, 0.35757196, 0.00915852],\n",
       "       [0.0999954 , 0.5248015 , 0.01026232, 0.02117701, 0.00191667,\n",
       "        0.00287618, 0.05799011, 0.01725965, 0.2564667 , 0.00725437]],\n",
       "      dtype=float32)"
      ]
     },
     "execution_count": 70,
     "metadata": {},
     "output_type": "execute_result"
    }
   ],
   "source": [
    "model.predict((encoder_input[:5], decoder_input[:5]))"
   ]
  },
  {
   "cell_type": "code",
   "execution_count": 71,
   "id": "64820b1c-fced-45bd-907b-04889607aa67",
   "metadata": {},
   "outputs": [
    {
     "data": {
      "text/plain": [
       "array([[6],\n",
       "       [1],\n",
       "       [6],\n",
       "       [0],\n",
       "       [1]])"
      ]
     },
     "execution_count": 71,
     "metadata": {},
     "output_type": "execute_result"
    }
   ],
   "source": [
    "target[:5]"
   ]
  },
  {
   "cell_type": "code",
   "execution_count": 82,
   "id": "2d5b5147-97ae-4c10-bf59-bba9c08ae140",
   "metadata": {},
   "outputs": [
    {
     "data": {
      "text/plain": [
       "[<KerasTensor: shape=(None, 64) dtype=float32 (created by layer 'lstm_5')>,\n",
       " <KerasTensor: shape=(None, 64) dtype=float32 (created by layer 'lstm_5')>,\n",
       " <KerasTensor: shape=(None, 64) dtype=float32 (created by layer 'lstm_5')>]"
      ]
     },
     "execution_count": 82,
     "metadata": {},
     "output_type": "execute_result"
    }
   ],
   "source": [
    "model.layers[4].output"
   ]
  },
  {
   "cell_type": "code",
   "execution_count": null,
   "id": "18f8b38f-1a98-4fd3-a33f-01da2863ffb1",
   "metadata": {},
   "outputs": [],
   "source": []
  }
 ],
 "metadata": {
  "kernelspec": {
   "display_name": "tf_env",
   "language": "python",
   "name": "tf_env"
  },
  "language_info": {
   "codemirror_mode": {
    "name": "ipython",
    "version": 3
   },
   "file_extension": ".py",
   "mimetype": "text/x-python",
   "name": "python",
   "nbconvert_exporter": "python",
   "pygments_lexer": "ipython3",
   "version": "3.10.13"
  }
 },
 "nbformat": 4,
 "nbformat_minor": 5
}
