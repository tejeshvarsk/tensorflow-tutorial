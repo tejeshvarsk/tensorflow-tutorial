{
 "cells": [
  {
   "cell_type": "code",
   "execution_count": 9,
   "id": "420de530-0900-42b0-8470-d770cfaf3da7",
   "metadata": {},
   "outputs": [],
   "source": [
    "import tensorflow as tf\n",
    "import keras\n",
    "from keras import layers"
   ]
  },
  {
   "cell_type": "code",
   "execution_count": 12,
   "id": "ddffc220-00df-4231-b96e-ec9730f1f3ad",
   "metadata": {},
   "outputs": [
    {
     "data": {
      "text/plain": [
       "<tf.Tensor: shape=(4, 2), dtype=float32, numpy=\n",
       "array([[1.3399724 , 0.8667206 ],\n",
       "       [0.7291853 , 0.47048196],\n",
       "       [1.1279329 , 0.78167355],\n",
       "       [0.5833016 , 1.0417581 ]], dtype=float32)>"
      ]
     },
     "execution_count": 12,
     "metadata": {},
     "output_type": "execute_result"
    }
   ],
   "source": [
    "model = keras.Sequential([\n",
    "    layers.Dense(3, activation='relu', name='layer1'),\n",
    "    layers.Dense(4, activation='relu', name='layer2'),\n",
    "    layers.Dense(2,  name='layer3')\n",
    "])\n",
    "x= tf.random.normal((4,3))\n",
    "y = model(x)\n",
    "y"
   ]
  },
  {
   "cell_type": "code",
   "execution_count": 13,
   "id": "19572dad-af1b-466e-9997-f8c044da4aa8",
   "metadata": {},
   "outputs": [
    {
     "data": {
      "text/plain": [
       "<tf.Tensor: shape=(4, 2), dtype=float32, numpy=\n",
       "array([[-0.09227532,  0.08486008],\n",
       "       [-0.01765659,  0.01623771],\n",
       "       [-0.54909265,  0.5203797 ],\n",
       "       [-1.3370439 ,  1.0331937 ]], dtype=float32)>"
      ]
     },
     "execution_count": 13,
     "metadata": {},
     "output_type": "execute_result"
    }
   ],
   "source": [
    "layer1 = layers.Dense(3, activation='relu', name='layer1')\n",
    "layer2 = layers.Dense(4, activation='relu', name='layer2')\n",
    "layer3 = layers.Dense(2, name='layer3')\n",
    "y = layer3(layer2(layer1(x)))\n",
    "y"
   ]
  },
  {
   "cell_type": "code",
   "execution_count": 15,
   "id": "e4167909-1d20-40ce-a81f-b7f5d19fb18a",
   "metadata": {},
   "outputs": [
    {
     "name": "stdout",
     "output_type": "stream",
     "text": [
      "tf.Tensor(\n",
      "[[ 0.          0.        ]\n",
      " [ 0.          0.        ]\n",
      " [-0.28474823 -0.5721739 ]\n",
      " [-0.44008055 -1.5906756 ]], shape=(4, 2), dtype=float32)\n",
      "Model: \"sequential_5\"\n",
      "_________________________________________________________________\n",
      " Layer (type)                Output Shape              Param #   \n",
      "=================================================================\n",
      " layer1 (Dense)              (4, 3)                    12        \n",
      "                                                                 \n",
      " layer2 (Dense)              (4, 4)                    16        \n",
      "                                                                 \n",
      " layer3 (Dense)              (4, 2)                    10        \n",
      "                                                                 \n",
      "=================================================================\n",
      "Total params: 38 (152.00 Byte)\n",
      "Trainable params: 38 (152.00 Byte)\n",
      "Non-trainable params: 0 (0.00 Byte)\n",
      "_________________________________________________________________\n"
     ]
    }
   ],
   "source": [
    "model = keras.Sequential()\n",
    "model.add(layers.Dense(3, activation='relu', name='layer1'))\n",
    "model.add(layers.Dense(4, activation='relu', name='layer2'))\n",
    "model.add(layers.Dense(2,  name='layer3'))\n",
    "y=model(x)\n",
    "print(y)\n",
    "model.summary()"
   ]
  },
  {
   "cell_type": "code",
   "execution_count": 16,
   "id": "f65b0a25-de09-4107-8eff-cb07ff846d50",
   "metadata": {},
   "outputs": [
    {
     "data": {
      "text/plain": [
       "<tf.Tensor: shape=(4, 3), dtype=float32, numpy=\n",
       "array([[-0.9964266 ,  1.7605306 , -1.1461923 ],\n",
       "       [-0.7166076 ,  1.076103  , -0.9184262 ],\n",
       "       [ 1.5381393 ,  0.8297669 ,  0.8090582 ],\n",
       "       [ 0.35487136, -0.3420166 ,  1.8957074 ]], dtype=float32)>"
      ]
     },
     "execution_count": 16,
     "metadata": {},
     "output_type": "execute_result"
    }
   ],
   "source": [
    "x"
   ]
  },
  {
   "cell_type": "code",
   "execution_count": 17,
   "id": "61798432-13f6-48d7-9838-0beb74020ec3",
   "metadata": {},
   "outputs": [
    {
     "data": {
      "text/plain": [
       "[<tf.Variable 'layer1/kernel:0' shape=(3, 3) dtype=float32, numpy=\n",
       " array([[ 0.5470724 ,  0.9229412 , -0.7351365 ],\n",
       "        [ 0.22072077, -0.9587922 , -0.88712144],\n",
       "        [ 0.60672474,  0.2875986 ,  0.86910725]], dtype=float32)>,\n",
       " <tf.Variable 'layer1/bias:0' shape=(3,) dtype=float32, numpy=array([0., 0., 0.], dtype=float32)>,\n",
       " <tf.Variable 'layer2/kernel:0' shape=(3, 4) dtype=float32, numpy=\n",
       " array([[ 0.20941901, -0.27771795, -0.08847451,  0.31018972],\n",
       "        [ 0.0633015 ,  0.59744   ,  0.19547737, -0.09824395],\n",
       "        [-0.5741221 ,  0.77887344, -0.8526141 , -0.68441135]],\n",
       "       dtype=float32)>,\n",
       " <tf.Variable 'layer2/bias:0' shape=(4,) dtype=float32, numpy=array([0., 0., 0., 0.], dtype=float32)>,\n",
       " <tf.Variable 'layer3/kernel:0' shape=(4, 2) dtype=float32, numpy=\n",
       " array([[-0.6816926 , -0.42840815],\n",
       "        [-0.26174712, -0.9460876 ],\n",
       "        [ 0.21971178,  0.19172573],\n",
       "        [-0.03875017, -0.8636956 ]], dtype=float32)>,\n",
       " <tf.Variable 'layer3/bias:0' shape=(2,) dtype=float32, numpy=array([0., 0.], dtype=float32)>]"
      ]
     },
     "execution_count": 17,
     "metadata": {},
     "output_type": "execute_result"
    }
   ],
   "source": [
    "model.variables"
   ]
  },
  {
   "cell_type": "code",
   "execution_count": 18,
   "id": "8a3cfa14-9bbb-481c-9417-edec22ec6260",
   "metadata": {},
   "outputs": [
    {
     "name": "stdout",
     "output_type": "stream",
     "text": [
      "Model: \"sequential_6\"\n",
      "_________________________________________________________________\n",
      " Layer (type)                Output Shape              Param #   \n",
      "=================================================================\n",
      " layer2 (Dense)              (None, 4, 3)              12        \n",
      "                                                                 \n",
      " layer3 (Dense)              (None, 4, 2)              8         \n",
      "                                                                 \n",
      "=================================================================\n",
      "Total params: 20 (80.00 Byte)\n",
      "Trainable params: 20 (80.00 Byte)\n",
      "Non-trainable params: 0 (0.00 Byte)\n",
      "_________________________________________________________________\n"
     ]
    }
   ],
   "source": [
    "model=keras.Sequential()\n",
    "model.add(layers.Input(shape=(4,3)))\n",
    "model.add(layers.Dense(3, activation='relu', name='layer2'))\n",
    "model.add(layers.Dense(2,  name='layer3'))\n",
    "model.summary()"
   ]
  },
  {
   "cell_type": "code",
   "execution_count": 19,
   "id": "a6319093-8a34-45c7-b355-83f826077edb",
   "metadata": {},
   "outputs": [
    {
     "data": {
      "text/plain": [
       "[<keras.src.layers.core.dense.Dense at 0x168d80e20>,\n",
       " <keras.src.layers.core.dense.Dense at 0x168f5c820>]"
      ]
     },
     "execution_count": 19,
     "metadata": {},
     "output_type": "execute_result"
    }
   ],
   "source": [
    "model.layers"
   ]
  },
  {
   "cell_type": "code",
   "execution_count": 20,
   "id": "13474358-a3bb-44ca-a28b-0f1a1f0bb3d5",
   "metadata": {},
   "outputs": [
    {
     "name": "stdout",
     "output_type": "stream",
     "text": [
      "Model: \"sequential_7\"\n",
      "_________________________________________________________________\n",
      " Layer (type)                Output Shape              Param #   \n",
      "=================================================================\n",
      " dense (Dense)               (None, 2)                 10        \n",
      "                                                                 \n",
      "=================================================================\n",
      "Total params: 10 (40.00 Byte)\n",
      "Trainable params: 10 (40.00 Byte)\n",
      "Non-trainable params: 0 (0.00 Byte)\n",
      "_________________________________________________________________\n"
     ]
    }
   ],
   "source": [
    "model = keras.Sequential()\n",
    "model.add(layers.Dense(2, activation=\"relu\", input_shape=(4,)))\n",
    "\n",
    "model.summary()"
   ]
  },
  {
   "cell_type": "code",
   "execution_count": null,
   "id": "ea4faca3-29c1-4790-a6cc-1d61d1a8431f",
   "metadata": {},
   "outputs": [],
   "source": []
  }
 ],
 "metadata": {
  "kernelspec": {
   "display_name": "tf_env",
   "language": "python",
   "name": "tf_env"
  },
  "language_info": {
   "codemirror_mode": {
    "name": "ipython",
    "version": 3
   },
   "file_extension": ".py",
   "mimetype": "text/x-python",
   "name": "python",
   "nbconvert_exporter": "python",
   "pygments_lexer": "ipython3",
   "version": "3.10.13"
  }
 },
 "nbformat": 4,
 "nbformat_minor": 5
}
