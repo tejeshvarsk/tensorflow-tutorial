{
 "cells": [
  {
   "cell_type": "code",
   "execution_count": 1,
   "id": "33501a3c-f911-4ee1-8a94-c17f7d4dd191",
   "metadata": {},
   "outputs": [],
   "source": [
    "import tensorflow as tf\n",
    "import numpy as np"
   ]
  },
  {
   "cell_type": "code",
   "execution_count": 2,
   "id": "429f9c1a-49ce-4bca-8721-6dcf0d9eb4e2",
   "metadata": {},
   "outputs": [
    {
     "data": {
      "text/plain": [
       "<tf.Tensor: shape=(), dtype=string, numpy=b'Thanks \\xf0\\x9f\\x98\\x8a'>"
      ]
     },
     "execution_count": 2,
     "metadata": {},
     "output_type": "execute_result"
    }
   ],
   "source": [
    "tf.constant(u\"Thanks 😊\")"
   ]
  },
  {
   "cell_type": "code",
   "execution_count": 3,
   "id": "8344c8b9-5a60-4140-9f82-16a4d8a0884f",
   "metadata": {},
   "outputs": [
    {
     "data": {
      "text/plain": [
       "TensorShape([2])"
      ]
     },
     "execution_count": 3,
     "metadata": {},
     "output_type": "execute_result"
    }
   ],
   "source": [
    "tf.constant([u\"You're\",u\"welcome!\"]).shape"
   ]
  },
  {
   "cell_type": "code",
   "execution_count": 4,
   "id": "330c89fe-684b-4e22-9cbe-8379282a23b1",
   "metadata": {},
   "outputs": [
    {
     "data": {
      "text/plain": [
       "<tf.Tensor: shape=(), dtype=string, numpy=b'\\xe8\\xaf\\xad\\xe8\\xa8\\x80\\xe5\\xa4\\x84\\xe7\\x90\\x86'>"
      ]
     },
     "execution_count": 4,
     "metadata": {},
     "output_type": "execute_result"
    }
   ],
   "source": [
    "text_utf8 = tf.constant(u\"语言处理\")\n",
    "text_utf8"
   ]
  },
  {
   "cell_type": "code",
   "execution_count": 7,
   "id": "6def2df1-cc0e-4e30-8f51-15b62409d557",
   "metadata": {},
   "outputs": [
    {
     "data": {
      "text/plain": [
       "<tf.Tensor: shape=(), dtype=string, numpy=b'\\x8b\\xed\\x8a\\x00Y\\x04t\\x06'>"
      ]
     },
     "execution_count": 7,
     "metadata": {},
     "output_type": "execute_result"
    }
   ],
   "source": [
    "text_utf16be = tf.constant(u\"语言处理\".encode(\"UTF-16-BE\"))\n",
    "text_utf16be"
   ]
  },
  {
   "cell_type": "code",
   "execution_count": 8,
   "id": "1da2df01-882c-4928-97b7-3f6126914f71",
   "metadata": {},
   "outputs": [
    {
     "data": {
      "text/plain": [
       "<tf.Tensor: shape=(4,), dtype=int32, numpy=array([35821, 35328, 22788, 29702], dtype=int32)>"
      ]
     },
     "execution_count": 8,
     "metadata": {},
     "output_type": "execute_result"
    }
   ],
   "source": [
    "text_chars = tf.constant([ord(char) for char in u\"语言处理\"])\n",
    "text_chars"
   ]
  },
  {
   "cell_type": "code",
   "execution_count": 9,
   "id": "2b01f57c-3530-4d0f-bb03-1af80c74395b",
   "metadata": {},
   "outputs": [
    {
     "data": {
      "text/plain": [
       "<tf.Tensor: shape=(4,), dtype=int32, numpy=array([35821, 35328, 22788, 29702], dtype=int32)>"
      ]
     },
     "execution_count": 9,
     "metadata": {},
     "output_type": "execute_result"
    }
   ],
   "source": [
    "tf.strings.unicode_decode(text_utf8, input_encoding=\"UTF-8\")"
   ]
  },
  {
   "cell_type": "code",
   "execution_count": 10,
   "id": "0ec037ae-f13f-4356-9613-526fae732d99",
   "metadata": {},
   "outputs": [
    {
     "data": {
      "text/plain": [
       "<tf.Tensor: shape=(), dtype=string, numpy=b'\\xe8\\xaf\\xad\\xe8\\xa8\\x80\\xe5\\xa4\\x84\\xe7\\x90\\x86'>"
      ]
     },
     "execution_count": 10,
     "metadata": {},
     "output_type": "execute_result"
    }
   ],
   "source": [
    "tf.strings.unicode_encode(text_chars, output_encoding='UTF-8')"
   ]
  },
  {
   "cell_type": "code",
   "execution_count": 13,
   "id": "34ae2bf4-5e42-4160-b9f4-31bd89db210c",
   "metadata": {},
   "outputs": [
    {
     "data": {
      "text/plain": [
       "<tf.Tensor: shape=(), dtype=string, numpy=b'\\x8b\\xed\\x8a\\x00Y\\x04t\\x06'>"
      ]
     },
     "execution_count": 13,
     "metadata": {},
     "output_type": "execute_result"
    }
   ],
   "source": [
    "tf.strings.unicode_transcode(text_utf8, input_encoding='utf-8', output_encoding='UTF-16-BE')"
   ]
  },
  {
   "cell_type": "code",
   "execution_count": 15,
   "id": "13baab8a-2515-4554-8e30-d77fea0cf4e1",
   "metadata": {},
   "outputs": [
    {
     "data": {
      "text/plain": [
       "<tf.Tensor: shape=(4,), dtype=string, numpy=\n",
       "array([b'h\\xc3\\x83llo', b'What is the weather tomorrow',\n",
       "       b'G\\xc3\\xb6\\xc3\\xb6dnight', b'\\xf0\\x9f\\x98\\x8a'], dtype=object)>"
      ]
     },
     "execution_count": 15,
     "metadata": {},
     "output_type": "execute_result"
    }
   ],
   "source": [
    "batch_utf8 = tf.constant([ s.encode(\"UTF-8\") for s in [u'hÃllo', u'What is the weather tomorrow', u'Göödnight', u'😊']])\n",
    "batch_utf8"
   ]
  },
  {
   "cell_type": "code",
   "execution_count": 17,
   "id": "033dd207-4b62-4adc-a80c-7cd3997758e9",
   "metadata": {},
   "outputs": [
    {
     "data": {
      "text/plain": [
       "<tf.RaggedTensor [[104, 195, 108, 108, 111],\n",
       " [87, 104, 97, 116, 32, 105, 115, 32, 116, 104, 101, 32, 119, 101, 97, 116,\n",
       "  104, 101, 114, 32, 116, 111, 109, 111, 114, 114, 111, 119]               ,\n",
       " [71, 246, 246, 100, 110, 105, 103, 104, 116], [128522]]>"
      ]
     },
     "execution_count": 17,
     "metadata": {},
     "output_type": "execute_result"
    }
   ],
   "source": [
    "batch_chars_ragged = tf.strings.unicode_decode(batch_utf8, input_encoding='utf-8')\n",
    "batch_chars_ragged"
   ]
  },
  {
   "cell_type": "code",
   "execution_count": 21,
   "id": "92d1fea9-90fc-41d8-aa1a-87c4df36fcef",
   "metadata": {},
   "outputs": [
    {
     "name": "stdout",
     "output_type": "stream",
     "text": [
      "[104, 195, 108, 108, 111]\n",
      "[87, 104, 97, 116, 32, 105, 115, 32, 116, 104, 101, 32, 119, 101, 97, 116, 104, 101, 114, 32, 116, 111, 109, 111, 114, 114, 111, 119]\n",
      "[71, 246, 246, 100, 110, 105, 103, 104, 116]\n",
      "[128522]\n"
     ]
    }
   ],
   "source": [
    "for s in batch_chars_ragged.to_list():\n",
    "    print(s)"
   ]
  },
  {
   "cell_type": "code",
   "execution_count": 31,
   "id": "bad30d6c-75d7-4b85-8ebd-6bfa88a0c2f3",
   "metadata": {},
   "outputs": [
    {
     "data": {
      "text/plain": [
       "SparseTensor(indices=tf.Tensor(\n",
       "[[ 0  0]\n",
       " [ 0  1]\n",
       " [ 0  2]\n",
       " [ 0  3]\n",
       " [ 0  4]\n",
       " [ 1  0]\n",
       " [ 1  1]\n",
       " [ 1  2]\n",
       " [ 1  3]\n",
       " [ 1  4]\n",
       " [ 1  5]\n",
       " [ 1  6]\n",
       " [ 1  7]\n",
       " [ 1  8]\n",
       " [ 1  9]\n",
       " [ 1 10]\n",
       " [ 1 11]\n",
       " [ 1 12]\n",
       " [ 1 13]\n",
       " [ 1 14]\n",
       " [ 1 15]\n",
       " [ 1 16]\n",
       " [ 1 17]\n",
       " [ 1 18]\n",
       " [ 1 19]\n",
       " [ 1 20]\n",
       " [ 1 21]\n",
       " [ 1 22]\n",
       " [ 1 23]\n",
       " [ 1 24]\n",
       " [ 1 25]\n",
       " [ 1 26]\n",
       " [ 1 27]\n",
       " [ 2  0]\n",
       " [ 2  1]\n",
       " [ 2  2]\n",
       " [ 2  3]\n",
       " [ 2  4]\n",
       " [ 2  5]\n",
       " [ 2  6]\n",
       " [ 2  7]\n",
       " [ 2  8]\n",
       " [ 3  0]], shape=(43, 2), dtype=int64), values=tf.Tensor(\n",
       "[   104    195    108    108    111     87    104     97    116     32\n",
       "    105    115     32    116    104    101     32    119    101     97\n",
       "    116    104    101    114     32    116    111    109    111    114\n",
       "    114    111    119     71    246    246    100    110    105    103\n",
       "    104    116 128522], shape=(43,), dtype=int32), dense_shape=tf.Tensor([ 4 28], shape=(2,), dtype=int64))"
      ]
     },
     "execution_count": 31,
     "metadata": {},
     "output_type": "execute_result"
    }
   ],
   "source": [
    "batch_chars_sparse=batch_chars_ragged.to_sparse()\n",
    "batch_chars_sparse"
   ]
  },
  {
   "cell_type": "code",
   "execution_count": 37,
   "id": "a2b09f15-b84c-41ab-8240-c6fedad63671",
   "metadata": {},
   "outputs": [
    {
     "data": {
      "text/plain": [
       "<tf.Tensor: shape=(4, 28), dtype=int32, numpy=\n",
       "array([[   104,    195,    108,    108,    111,     -1,     -1,     -1,\n",
       "            -1,     -1,     -1,     -1,     -1,     -1,     -1,     -1,\n",
       "            -1,     -1,     -1,     -1,     -1,     -1,     -1,     -1,\n",
       "            -1,     -1,     -1,     -1],\n",
       "       [    87,    104,     97,    116,     32,    105,    115,     32,\n",
       "           116,    104,    101,     32,    119,    101,     97,    116,\n",
       "           104,    101,    114,     32,    116,    111,    109,    111,\n",
       "           114,    114,    111,    119],\n",
       "       [    71,    246,    246,    100,    110,    105,    103,    104,\n",
       "           116,     -1,     -1,     -1,     -1,     -1,     -1,     -1,\n",
       "            -1,     -1,     -1,     -1,     -1,     -1,     -1,     -1,\n",
       "            -1,     -1,     -1,     -1],\n",
       "       [128522,     -1,     -1,     -1,     -1,     -1,     -1,     -1,\n",
       "            -1,     -1,     -1,     -1,     -1,     -1,     -1,     -1,\n",
       "            -1,     -1,     -1,     -1,     -1,     -1,     -1,     -1,\n",
       "            -1,     -1,     -1,     -1]], dtype=int32)>"
      ]
     },
     "execution_count": 37,
     "metadata": {},
     "output_type": "execute_result"
    }
   ],
   "source": [
    "batch_chars_padded=batch_chars_ragged.to_tensor(default_value=-1)\n",
    "batch_chars_padded"
   ]
  },
  {
   "cell_type": "code",
   "execution_count": 28,
   "id": "289a777c-7f73-4b7f-8331-c82376ec106e",
   "metadata": {},
   "outputs": [
    {
     "data": {
      "text/plain": [
       "<tf.Tensor: shape=(3,), dtype=string, numpy=array([b'cat', b'dog', b'cow'], dtype=object)>"
      ]
     },
     "execution_count": 28,
     "metadata": {},
     "output_type": "execute_result"
    }
   ],
   "source": [
    "tf.strings.unicode_encode([[99, 97, 116], [100, 111, 103], [99, 111, 119]],\n",
    "                          output_encoding='UTF-8')"
   ]
  },
  {
   "cell_type": "code",
   "execution_count": 29,
   "id": "38c5c2ef-6ffe-4699-b9c4-2433c7a76ee9",
   "metadata": {},
   "outputs": [
    {
     "data": {
      "text/plain": [
       "<tf.Tensor: shape=(4,), dtype=string, numpy=\n",
       "array([b'h\\xc3\\x83llo', b'What is the weather tomorrow',\n",
       "       b'G\\xc3\\xb6\\xc3\\xb6dnight', b'\\xf0\\x9f\\x98\\x8a'], dtype=object)>"
      ]
     },
     "execution_count": 29,
     "metadata": {},
     "output_type": "execute_result"
    }
   ],
   "source": [
    "tf.strings.unicode_encode(batch_chars_ragged,output_encoding='UTF-8')"
   ]
  },
  {
   "cell_type": "code",
   "execution_count": 34,
   "id": "54da63ae-98a3-45d9-b910-e4a6e145fc73",
   "metadata": {},
   "outputs": [
    {
     "data": {
      "text/plain": [
       "<tf.Tensor: shape=(4,), dtype=string, numpy=\n",
       "array([b'h\\xc3\\x83llo', b'What is the weather tomorrow',\n",
       "       b'G\\xc3\\xb6\\xc3\\xb6dnight', b'\\xf0\\x9f\\x98\\x8a'], dtype=object)>"
      ]
     },
     "execution_count": 34,
     "metadata": {},
     "output_type": "execute_result"
    }
   ],
   "source": [
    "tf.strings.unicode_encode(tf.RaggedTensor.from_sparse(batch_chars_sparse), output_encoding='UTF-8')"
   ]
  },
  {
   "cell_type": "code",
   "execution_count": 50,
   "id": "6a9364aa-4598-46ff-a2ec-7d6e8a7c7a2e",
   "metadata": {},
   "outputs": [
    {
     "data": {
      "text/plain": [
       "<tf.Tensor: shape=(4,), dtype=string, numpy=\n",
       "array([b'h\\xc3\\x83llo', b'What is the weather tomorrow',\n",
       "       b'G\\xc3\\xb6\\xc3\\xb6dnight', b'\\xf0\\x9f\\x98\\x8a'], dtype=object)>"
      ]
     },
     "execution_count": 50,
     "metadata": {},
     "output_type": "execute_result"
    }
   ],
   "source": [
    "tf.strings.unicode_encode(tf.RaggedTensor.from_tensor(batch_chars_padded, padding=-1), output_encoding='UTF-8')"
   ]
  },
  {
   "cell_type": "code",
   "execution_count": 58,
   "id": "ee899849-f8c2-4269-a89c-2605e4a5dd1f",
   "metadata": {},
   "outputs": [
    {
     "data": {
      "text/plain": [
       "<tf.RaggedTensor [[104, 195, 108, 108, 111],\n",
       " [87, 104, 97, 116, 32, 105, 115, 32, 116, 104, 101, 32, 119, 101, 97, 116,\n",
       "  104, 101, 114, 32, 116, 111, 109, 111, 114, 114, 111, 119]               ,\n",
       " [71, 246, 246, 100, 110, 105, 103, 104, 116], [128522]]>"
      ]
     },
     "execution_count": 58,
     "metadata": {},
     "output_type": "execute_result"
    }
   ],
   "source": [
    "tf.strings.unicode_decode(batch_utf8,input_encoding='UTF-8')"
   ]
  },
  {
   "cell_type": "code",
   "execution_count": 65,
   "id": "28034cbc-e06e-4b20-835a-4205635c131d",
   "metadata": {},
   "outputs": [
    {
     "data": {
      "text/plain": [
       "<tf.Tensor: shape=(), dtype=string, numpy=b'cat'>"
      ]
     },
     "execution_count": 65,
     "metadata": {},
     "output_type": "execute_result"
    }
   ],
   "source": [
    "tf.strings.unicode_encode([99,97,116],output_encoding='UTF-8')"
   ]
  },
  {
   "cell_type": "code",
   "execution_count": 67,
   "id": "8875c309-c09d-4b7c-9626-9c9ea7fbef8d",
   "metadata": {},
   "outputs": [
    {
     "data": {
      "text/plain": [
       "<tf.RaggedTensor [[99, 97, 116]]>"
      ]
     },
     "execution_count": 67,
     "metadata": {},
     "output_type": "execute_result"
    }
   ],
   "source": [
    "tf.strings.unicode_decode([\"cat\"],input_encoding='UTF-8')"
   ]
  },
  {
   "cell_type": "code",
   "execution_count": 69,
   "id": "292d1511-3919-4c2a-b22b-57358aacaf80",
   "metadata": {},
   "outputs": [
    {
     "data": {
      "text/plain": [
       "<tf.RaggedTensor [[104, 195, 108, 108, 111],\n",
       " [87, 104, 97, 116, 32, 105, 115, 32, 116, 104, 101, 32, 119, 101, 97, 116,\n",
       "  104, 101, 114, 32, 116, 111, 109, 111, 114, 114, 111, 119]               ,\n",
       " [71, 246, 246, 100, 110, 105, 103, 104, 116], [128522]]>"
      ]
     },
     "execution_count": 69,
     "metadata": {},
     "output_type": "execute_result"
    }
   ],
   "source": [
    "tf.RaggedTensor.from_tensor(batch_chars_padded, padding=-1)"
   ]
  },
  {
   "cell_type": "code",
   "execution_count": 72,
   "id": "f0395b10-c9f3-4fb5-b962-4713c8a43e5a",
   "metadata": {},
   "outputs": [
    {
     "data": {
      "text/plain": [
       "<tf.RaggedTensor [[104, 195, 108, 108, 111],\n",
       " [87, 104, 97, 116, 32, 105, 115, 32, 116, 104, 101, 32, 119, 101, 97, 116,\n",
       "  104, 101, 114, 32, 116, 111, 109, 111, 114, 114, 111, 119]               ,\n",
       " [71, 246, 246, 100, 110, 105, 103, 104, 116], [128522]]>"
      ]
     },
     "execution_count": 72,
     "metadata": {},
     "output_type": "execute_result"
    }
   ],
   "source": [
    "tf.RaggedTensor.from_sparse(batch_chars_sparse)"
   ]
  },
  {
   "cell_type": "code",
   "execution_count": 76,
   "id": "41035eca-be59-42ea-971a-2a27941d92c0",
   "metadata": {},
   "outputs": [
    {
     "data": {
      "text/plain": [
       "12"
      ]
     },
     "execution_count": 76,
     "metadata": {},
     "output_type": "execute_result"
    }
   ],
   "source": [
    "tf.strings.length(text_utf8).numpy()"
   ]
  },
  {
   "cell_type": "code",
   "execution_count": 77,
   "id": "fc435a21-aac2-43cf-b834-ce8d261e2035",
   "metadata": {},
   "outputs": [
    {
     "data": {
      "text/plain": [
       "4"
      ]
     },
     "execution_count": 77,
     "metadata": {},
     "output_type": "execute_result"
    }
   ],
   "source": [
    "tf.strings.length(text_utf8, unit='UTF8_CHAR').numpy()"
   ]
  },
  {
   "cell_type": "code",
   "execution_count": 79,
   "id": "fc8cab83-e21c-48b4-9ece-d9565656260f",
   "metadata": {},
   "outputs": [
    {
     "data": {
      "text/plain": [
       "b'Thanks \\xf0\\x9f\\x98\\x8a'"
      ]
     },
     "execution_count": 79,
     "metadata": {},
     "output_type": "execute_result"
    }
   ],
   "source": [
    "thanks = u'Thanks 😊'.encode('UTF-8')\n",
    "thanks"
   ]
  },
  {
   "cell_type": "code",
   "execution_count": 81,
   "id": "3b3ee9a9-304d-4f08-be4d-59a89f715619",
   "metadata": {},
   "outputs": [
    {
     "data": {
      "text/plain": [
       "11"
      ]
     },
     "execution_count": 81,
     "metadata": {},
     "output_type": "execute_result"
    }
   ],
   "source": [
    "tf.strings.length(thanks).numpy()"
   ]
  },
  {
   "cell_type": "code",
   "execution_count": 82,
   "id": "64ee7bcc-ccfa-48d1-ae94-d86b3b9573e2",
   "metadata": {},
   "outputs": [
    {
     "data": {
      "text/plain": [
       "8"
      ]
     },
     "execution_count": 82,
     "metadata": {},
     "output_type": "execute_result"
    }
   ],
   "source": [
    "tf.strings.length(thanks, unit='UTF8_CHAR').numpy()"
   ]
  },
  {
   "cell_type": "code",
   "execution_count": 84,
   "id": "4455535f-3071-472a-ace5-cb5287869312",
   "metadata": {},
   "outputs": [
    {
     "data": {
      "text/plain": [
       "b'\\xf0'"
      ]
     },
     "execution_count": 84,
     "metadata": {},
     "output_type": "execute_result"
    }
   ],
   "source": [
    "tf.strings.substr(thanks, pos=7, len=1).numpy()"
   ]
  },
  {
   "cell_type": "code",
   "execution_count": 85,
   "id": "34427ab1-ba85-42c7-bfe4-c9dc5609b075",
   "metadata": {},
   "outputs": [
    {
     "data": {
      "text/plain": [
       "b'\\xf0\\x9f\\x98\\x8a'"
      ]
     },
     "execution_count": 85,
     "metadata": {},
     "output_type": "execute_result"
    }
   ],
   "source": [
    "tf.strings.substr(thanks, pos=7, len=1, unit='UTF8_CHAR').numpy()"
   ]
  },
  {
   "cell_type": "code",
   "execution_count": 90,
   "id": "84a62204-22ae-490b-bfdc-d0b1c9dc96bc",
   "metadata": {},
   "outputs": [
    {
     "data": {
      "text/plain": [
       "array([b'T', b'h', b'a', b'n', b'k', b's', b' ', b'\\xf0\\x9f\\x98\\x8a'],\n",
       "      dtype=object)"
      ]
     },
     "execution_count": 90,
     "metadata": {},
     "output_type": "execute_result"
    }
   ],
   "source": [
    "tf.strings.unicode_split(thanks, 'UTF-8').numpy()"
   ]
  },
  {
   "cell_type": "code",
   "execution_count": 92,
   "id": "5a2f7458-6c3e-4714-9cc5-cbdfd376a3a0",
   "metadata": {},
   "outputs": [
    {
     "name": "stdout",
     "output_type": "stream",
     "text": [
      "At byte offset 0 codepoint is 127880\n",
      "At byte offset 4 codepoint is 127881\n",
      "At byte offset 8 codepoint is 127882\n"
     ]
    }
   ],
   "source": [
    "codepoints, offsets = tf.strings.unicode_decode_with_offsets(u'🎈🎉🎊', 'UTF-8')\n",
    "for (codepoint, offset) in zip(codepoints.numpy(), offsets.numpy()):\n",
    "    print('At byte offset {} codepoint is {}'.format(offset, codepoint))"
   ]
  },
  {
   "cell_type": "code",
   "execution_count": null,
   "id": "0f43b2f9-bec2-4a88-81fe-ffdb60b108e3",
   "metadata": {},
   "outputs": [],
   "source": []
  }
 ],
 "metadata": {
  "kernelspec": {
   "display_name": "tf_env",
   "language": "python",
   "name": "tf_env"
  },
  "language_info": {
   "codemirror_mode": {
    "name": "ipython",
    "version": 3
   },
   "file_extension": ".py",
   "mimetype": "text/x-python",
   "name": "python",
   "nbconvert_exporter": "python",
   "pygments_lexer": "ipython3",
   "version": "3.10.13"
  }
 },
 "nbformat": 4,
 "nbformat_minor": 5
}
